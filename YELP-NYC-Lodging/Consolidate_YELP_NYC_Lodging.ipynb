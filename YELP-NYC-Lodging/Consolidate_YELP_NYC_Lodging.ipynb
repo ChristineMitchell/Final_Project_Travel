{
 "cells": [
  {
   "cell_type": "code",
   "execution_count": 1,
   "metadata": {},
   "outputs": [],
   "source": [
    "## Dependencies and Setup\n",
    "import pandas as pd"
   ]
  },
  {
   "cell_type": "code",
   "execution_count": 2,
   "metadata": {
    "scrolled": true
   },
   "outputs": [],
   "source": [
    "## Files to Load\n",
    "Hotel = \"Resources/NYC_Hotels.csv\"\n",
    "Airbnb = \"Resources/NYC_Airbnb.csv\"\n",
    "BandB = \"Resources/NYC_BedandBreakfast.csv\""
   ]
  },
  {
   "cell_type": "code",
   "execution_count": 3,
   "metadata": {},
   "outputs": [],
   "source": [
    "## Read the data and store into a Pandas DataFrame\n",
    "Hotel_df = pd.read_csv(Hotel, encoding=\"ISO-8859-1\")\n",
    "Airbnb_df = pd.read_csv(Airbnb, encoding=\"ISO-8859-1\")\n",
    "BandB_df = pd.read_csv(BandB, encoding=\"ISO-8859-1\")"
   ]
  },
  {
   "cell_type": "code",
   "execution_count": 4,
   "metadata": {},
   "outputs": [
    {
     "data": {
      "text/plain": [
       "(600, 10)"
      ]
     },
     "execution_count": 4,
     "metadata": {},
     "output_type": "execute_result"
    }
   ],
   "source": [
    "nyc_lodging_df = pd.concat([Hotel_df,Airbnb_df,BandB_df], sort=True)\n",
    "nyc_lodging_df.shape"
   ]
  },
  {
   "cell_type": "code",
   "execution_count": 5,
   "metadata": {},
   "outputs": [
    {
     "data": {
      "text/plain": [
       "(324, 9)"
      ]
     },
     "execution_count": 5,
     "metadata": {},
     "output_type": "execute_result"
    }
   ],
   "source": [
    "#Format & Clean DataFrame\n",
    "column_order = [\"Lodging\",\"Type\",\"Rating\",\"Price\",\"Address\",\"Lat\",\"Lng\",\"url\",\"ID\"]\n",
    "nyc_lodging_df = nyc_lodging_df[column_order]\n",
    "nyc_lodging_df = nyc_lodging_df.sort_values([\"Type\"], ascending=True)\n",
    "nyc_lodging_df = nyc_lodging_df.reset_index(drop=True)\n",
    "nyc_lodging_df = nyc_lodging_df.drop_duplicates()\n",
    "nyc_lodging_df = nyc_lodging_df.dropna()\n",
    "nyc_lodging_df.shape\n",
    "#nyc_lodging_df.head()"
   ]
  },
  {
   "cell_type": "code",
   "execution_count": 6,
   "metadata": {},
   "outputs": [
    {
     "data": {
      "text/plain": [
       "Hotels                   315\n",
       "Venues & Event Spaces      5\n",
       "Lounges                    2\n",
       "Bed & Breakfast            1\n",
       "Cocktail Bars              1\n",
       "Name: Type, dtype: int64"
      ]
     },
     "execution_count": 6,
     "metadata": {},
     "output_type": "execute_result"
    }
   ],
   "source": [
    "#Recategorize & Remove Some Types of Lodging because we have too many varieties\n",
    "#List the Lodging Types\n",
    "nyc_lodging_df[\"Type\"].value_counts()"
   ]
  },
  {
   "cell_type": "code",
   "execution_count": 7,
   "metadata": {},
   "outputs": [],
   "source": [
    "#remove Lounges from DataFrame\n",
    "nyc_lodging_df = nyc_lodging_df.loc[nyc_lodging_df[\"Type\"]!=\"Lounges\"]"
   ]
  },
  {
   "cell_type": "code",
   "execution_count": 8,
   "metadata": {},
   "outputs": [],
   "source": [
    "#Recategorize lodging\n",
    "nyc_lodging_df[\"Type\"] = nyc_lodging_df[\"Type\"].replace({\"Venues & Event Spaces\":\"Hotel & Event Space\",\n",
    "                                                         \"Cocktail Bars\":\"Hotels\"})"
   ]
  },
  {
   "cell_type": "code",
   "execution_count": 9,
   "metadata": {},
   "outputs": [
    {
     "data": {
      "text/plain": [
       "Hotels                 316\n",
       "Hotel & Event Space      5\n",
       "Bed & Breakfast          1\n",
       "Name: Type, dtype: int64"
      ]
     },
     "execution_count": 9,
     "metadata": {},
     "output_type": "execute_result"
    }
   ],
   "source": [
    "nyc_lodging_df[\"Type\"].value_counts()"
   ]
  },
  {
   "cell_type": "code",
   "execution_count": 10,
   "metadata": {},
   "outputs": [
    {
     "data": {
      "text/plain": [
       "(322, 9)"
      ]
     },
     "execution_count": 10,
     "metadata": {},
     "output_type": "execute_result"
    }
   ],
   "source": [
    "#Sort the DataFrame\n",
    "nyc_lodging_df = nyc_lodging_df.sort_values([\"Type\"], ascending=True)\n",
    "nyc_lodging_df.shape\n",
    "#nyc_lodging_df.tail()"
   ]
  },
  {
   "cell_type": "code",
   "execution_count": 11,
   "metadata": {},
   "outputs": [],
   "source": [
    "# Save the DataFrame to a csv file\n",
    "nyc_lodging_df.to_csv('Resources/NYC_Lodging_Final.csv', index=False)"
   ]
  },
  {
   "cell_type": "code",
   "execution_count": null,
   "metadata": {},
   "outputs": [],
   "source": []
  }
 ],
 "metadata": {
  "kernelspec": {
   "display_name": "Python 3",
   "language": "python",
   "name": "python3"
  },
  "language_info": {
   "codemirror_mode": {
    "name": "ipython",
    "version": 3
   },
   "file_extension": ".py",
   "mimetype": "text/x-python",
   "name": "python",
   "nbconvert_exporter": "python",
   "pygments_lexer": "ipython3",
   "version": "3.6.5"
  }
 },
 "nbformat": 4,
 "nbformat_minor": 2
}
