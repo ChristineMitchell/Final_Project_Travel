{
 "cells": [
  {
   "cell_type": "code",
   "execution_count": 25,
   "metadata": {},
   "outputs": [],
   "source": [
    "# Dependencies and Setup\n",
    "import pandas as pd\n",
    "import requests\n",
    "import json\n",
    "\n",
    "# Import API key\n",
    "from config import api_key"
   ]
  },
  {
   "cell_type": "code",
   "execution_count": 26,
   "metadata": {},
   "outputs": [],
   "source": [
    "#cities = [\"New York,\"\"London\"]\n",
    "#term = [\"restaurant\",\"hotel\"]"
   ]
  },
  {
   "cell_type": "code",
   "execution_count": 29,
   "metadata": {},
   "outputs": [],
   "source": [
    "# Using the yelp business search API: https://www.yelp.com/developers/documentation/v3/business_search\n",
    "# headers contain the api key.\n",
    "headers = {\"Authorization\": \"Bearer {}\".format(api_key)}\n",
    "search_api_url = \"https://api.yelp.com/v3/businesses/search\"\n",
    "params = {\"term\":\"restaurant\", \"location\": \"New York\"}"
   ]
  },
  {
   "cell_type": "code",
   "execution_count": 30,
   "metadata": {},
   "outputs": [
    {
     "name": "stdout",
     "output_type": "stream",
     "text": [
      "https://api.yelp.com/v3/businesses/search?term=restaurant&location=New+York\n",
      "200\n"
     ]
    }
   ],
   "source": [
    "# timeout of 20 seconds: https://requests.readthedocs.io/en/master/user/quickstart/#timeouts\n",
    "response = requests.get(search_api_url, headers=headers, params=params, timeout=20)\n",
    "print(response.url)\n",
    "print(response.status_code)"
   ]
  },
  {
   "cell_type": "code",
   "execution_count": null,
   "metadata": {},
   "outputs": [],
   "source": []
  }
 ],
 "metadata": {
  "kernelspec": {
   "display_name": "Python 3",
   "language": "python",
   "name": "python3"
  },
  "language_info": {
   "codemirror_mode": {
    "name": "ipython",
    "version": 3
   },
   "file_extension": ".py",
   "mimetype": "text/x-python",
   "name": "python",
   "nbconvert_exporter": "python",
   "pygments_lexer": "ipython3",
   "version": "3.6.5"
  }
 },
 "nbformat": 4,
 "nbformat_minor": 2
}
