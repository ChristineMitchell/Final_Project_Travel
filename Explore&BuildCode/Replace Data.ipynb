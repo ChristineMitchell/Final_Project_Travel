{
 "cells": [
  {
   "cell_type": "code",
   "execution_count": 1,
   "metadata": {},
   "outputs": [],
   "source": [
    "## Dependencies and Setup\n",
    "import pandas as pd"
   ]
  },
  {
   "cell_type": "code",
   "execution_count": 2,
   "metadata": {},
   "outputs": [],
   "source": [
    "## Files to Load\n",
    "NYC_Restaurants = \"Resources/NYC_Restaurants.csv\"\n",
    "# Create DataFrame\n",
    "nyc_restaurants_df = pd.read_csv(NYC_Restaurants, encoding=\"ISO-8859-1\")\n",
    "# nyc_restaurants_df.head()"
   ]
  },
  {
   "cell_type": "code",
   "execution_count": 3,
   "metadata": {},
   "outputs": [],
   "source": [
    "#nyc_restaurants_df[\"Type\"].value_counts()"
   ]
  },
  {
   "cell_type": "code",
   "execution_count": 4,
   "metadata": {},
   "outputs": [],
   "source": [
    "#Remove some of the Restuarant Types:\n",
    "#a) replace what we do not want with \"Remove\", then\n",
    "nyc_restaurants_df[\"Type\"] = nyc_restaurants_df[\"Type\"].replace({\"Comfort Food\":\"Remove\", \n",
    "                                                           \"Cheese Shops\":\"Remove\",\n",
    "                                                           \"Grocery\":\"Remove\",\n",
    "                                                           \"Food Trucks\":\"Remove\",\n",
    "                                                           \"Seafood Markets\":\"Remove\",\n",
    "                                                           \"Specialty Food\":\"Remove\",\n",
    "                                                           \"Meat Shops\":\"Remove\",\n",
    "                                                           \"Venues & Event Spaces\":\"Remove\", \n",
    "                                                           \"Music Venues\":\"Remove\",\n",
    "                                                           \"Street Vendors\":\"Remove\",\n",
    "                                                           \"Chicken Shop\":\"Remove\",\n",
    "                                                           \"Convenience Stores\":\"Remove\",\n",
    "                                                           \"Health Markets\":\"Remove\",\n",
    "                                                           \"Butcher\":\"Remove\",\n",
    "                                                           \"Fruits & Veggies\":\"Remove\", \n",
    "                                                           \"Public Markets\":\"Remove\",\n",
    "                                                           \"Florists\":\"Remove\",\n",
    "                                                           \"Caterers\":\"Remove\",\n",
    "                                                           \"Poke\":\"Remove\",\n",
    "                                                           \"Colombian\":\"Remove\",\n",
    "                                                           \"Bookstores\":\"Remove\",\n",
    "                                                           \"Brasseries\":\"Remove\", \n",
    "                                                           \"Food Delivery Services\":\"Remove\",\n",
    "                                                           \"Organic Stores\":\"Remove\",\n",
    "                                                           \"Custom Cakes\":\"Remove\",\n",
    "                                                           \"Hotels\":\"Remove\",\n",
    "                                                           \"Antiques\":\"Remove\",\n",
    "                                                           \"Karaoke\":\"Remove\",\n",
    "                                                           \"Tobacco Shops\":\"Remove\", \n",
    "                                                           \"Sardinian\":\"Remove\",\n",
    "                                                           \"Gluten-Free\":\"Remove\",\n",
    "                                                           \"Supper Clubs\":\"Remove\",\n",
    "                                                           \"Imported Food\":\"Remove\",\n",
    "                                                           \"Pasta Shops\":\"Remove\",\n",
    "                                                           \"Performing Arts\":\"Remove\",\n",
    "                                                           \"Pool Halls\":\"Remove\",\n",
    "                                                           \"Patisserie/Cake Shop\":\"Remove\"})\n",
    "#b) remove all the ones labeled \"Remove\"\n",
    "nyc_restaurants_df = nyc_restaurants_df.loc[nyc_restaurants_df[\"Type\"]!=\"Remove\"]\n",
    "#nyc_restaurants_df[\"Type\"].value_counts()"
   ]
  },
  {
   "cell_type": "code",
   "execution_count": 5,
   "metadata": {},
   "outputs": [],
   "source": [
    "#Recategorize Bars,Pubs, & Cocktail Lounges\n",
    "nyc_restaurants_df[\"Type\"] = nyc_restaurants_df[\"Type\"].replace({\"Bars\":\"Bars,Pubs, & Cocktail Lounges\", \n",
    "                                                           \"Cocktail Bars\":\"Bars,Pubs, & Cocktail Lounges\",\n",
    "                                                           \"Pubs\":\"Bars,Pubs, & Cocktail Lounges\",\n",
    "                                                           \"Lounges\":\"Bars,Pubs, & Cocktail Lounges\",\n",
    "                                                           \"Wine Bars\":\"Bars,Pubs, & Cocktail Lounges\",\n",
    "                                                           \"Beer Bar\":\"Bars,Pubs, & Cocktail Lounges\",\n",
    "                                                           \"Sports Bars\":\"Bars,Pubs, & Cocktail Lounges\",\n",
    "                                                           \"Beer Gardens\":\"Bars,Pubs, & Cocktail Lounges\", \n",
    "                                                           \"Dive Bars\":\"Bars,Pubs, & Cocktail Lounges\",\n",
    "                                                           \"Breweries\":\"Bars,Pubs, & Cocktail Lounges\",\n",
    "                                                           \"Jazz & Blues\":\"Bars,Pubs, & Cocktail Lounges\",\n",
    "                                                           \"Beer, Wine & Spirits\":\"Bars,Pubs, & Cocktail Lounges\",\n",
    "                                                           \"Speakeasies\":\"Bars,Pubs, & Cocktail Lounges\",\n",
    "                                                           \"Tiki Bars\":\"Bars,Pubs, & Cocktail Lounges\",\n",
    "                                                           \"Fruits & Veggies\":\"Bars,Pubs, & Cocktail Lounges\", \n",
    "                                                           \"Whiskey Bars\":\"Bars,Pubs, & Cocktail Lounges\",\n",
    "                                                           \"Distilleries\":\"Bars,Pubs, & Cocktail Lounges\",\n",
    "                                                           \"Piano Bars\":\"Bars,Pubs, & Cocktail Lounges\",\n",
    "                                                           \"Brewpubs\":\"Bars,Pubs, & Cocktail Lounges\"})"
   ]
  },
  {
   "cell_type": "code",
   "execution_count": 6,
   "metadata": {},
   "outputs": [],
   "source": [
    "#Recategorize Food Type - Coffee & Tea\n",
    "nyc_restaurants_df[\"Type\"] = nyc_restaurants_df[\"Type\"].replace({\"Bubble Tea\":\"Coffee & Tea\",\n",
    "                                                      \"Tea Rooms\":\"Coffee & Tea\",\n",
    "                                                      \"Coffee Roasteries\":\"Coffee & Tea\"})"
   ]
  },
  {
   "cell_type": "code",
   "execution_count": 7,
   "metadata": {},
   "outputs": [],
   "source": [
    "#Recategorize Food Type - Desserts\n",
    "nyc_restaurants_df[\"Type\"] = nyc_restaurants_df[\"Type\"].replace({\"Chocolatiers & Shops\":\"Desserts\",\n",
    "                                                      \"Candy Stores\":\"Desserts\",\"Cupcakes\":\"Desserts\",\n",
    "                                                      \"Ice Cream & Frozen Yogurt\":\"Ice Cream, Frozen Yogurt, & Gelato\",\n",
    "                                                      \"Gelato\":\"Ice Cream, Frozen Yogurt, & Gelato\"})"
   ]
  },
  {
   "cell_type": "code",
   "execution_count": 8,
   "metadata": {},
   "outputs": [],
   "source": [
    "#Recategorize Food Type - American\n",
    "nyc_restaurants_df[\"Type\"] = nyc_restaurants_df[\"Type\"].replace({\"American (New)\":\"American\", \n",
    "                                                      \"American (Traditional)\":\"American\",\n",
    "                                                      \"Burgers\":\"American\",\"Hot Dogs\":\"American\",\n",
    "                                                      \"Diners\":\"American\",\"Chicken Wings\":\"American\"})"
   ]
  },
  {
   "cell_type": "code",
   "execution_count": 9,
   "metadata": {},
   "outputs": [],
   "source": [
    "#Recategorize Food Type - Asian\n",
    "nyc_restaurants_df[\"Type\"] = nyc_restaurants_df[\"Type\"].replace({ \"Dim Sum\":\"Chinese\",\n",
    "                                                      \"Szechuan\":\"Chinese\",\"Cantonese\":\"Chinese\",\n",
    "                                                      \"Japanese\":\"Japanese/Sushi\",\"Izakaya\":\"Japanese/Sushi\",\n",
    "                                                      \"Teppanyaki\":\"Japanese/Sushi\",\"Japanese Curry\":\"Japanese/Sushi\",\n",
    "                                                      \"Sushi Bars\":\"Japanese/Sushi\",\"Hot Pot\":\"Korean\",\n",
    "                                                      \"Asian Fusion\":\"Asian Other\",\"Ramen\":\"Asian Other\",\n",
    "                                                      \"Shanghainese\":\"Asian Other\", \"Vietnamese\":\"Asian Other\",\n",
    "                                                      \"Noodles\":\"Asian Other\",\"Taiwanese\":\"Asian Other\",\n",
    "                                                      \"Malaysian\":\"Asian Other\",\"Laotian\":\"Asian Other\",\n",
    "                                                      \"Hong Kong Style Cafe\":\"Asian Other\",\n",
    "                                                      \"Indonesian\":\"Asian Other\",\"Pan Asian\":\"Asian Other\"})"
   ]
  },
  {
   "cell_type": "code",
   "execution_count": 10,
   "metadata": {},
   "outputs": [],
   "source": [
    "#Recategorize Food Type - European\n",
    "nyc_restaurants_df[\"Type\"] = nyc_restaurants_df[\"Type\"].replace({\"Creperies\":\"French\",\"Macarons\":\"French\",\n",
    "                                                      \"German\":\"German/Austrian\",\"Austrian\":\"German/Austrian\",\n",
    "                                                      \"Irish Pub\":\"Irish\",\"Tuscan\":\"Italian\",\n",
    "                                                      \"Tapas Bars\":\"Spanish\",\"Tapas/Small Plates\":\"Spanish\",\n",
    "                                                      \"Modern European\":\"European Other\",\n",
    "                                                      \"British\":\"European Other\",\"Belgian\":\"European Other\",\n",
    "                                                      \"Scandinavian\":\"European Other\",\"Fish & Chips\":\"European Other\"})"
   ]
  },
  {
   "cell_type": "code",
   "execution_count": 11,
   "metadata": {},
   "outputs": [],
   "source": [
    "#Recategorize Food Type - Delis, Sandwiches, & Wraps\n",
    "nyc_restaurants_df[\"Type\"] = nyc_restaurants_df[\"Type\"].replace({\"Delis\":\"Delis, Sandwiches, & Wraps\",\n",
    "                                                      \"Sandwiches\":\"Delis, Sandwiches, & Wraps\",\n",
    "                                                      \"Wraps\":\"Delis, Sandwiches, & Wraps\"})"
   ]
  },
  {
   "cell_type": "code",
   "execution_count": 12,
   "metadata": {},
   "outputs": [],
   "source": [
    "#Recategorize Food Type - Mexican\n",
    "nyc_restaurants_df[\"Type\"] = nyc_restaurants_df[\"Type\"].replace({\"Tacos\":\"Mexican\",\"Tex-Mex\":\"Mexican\",\n",
    "                                                                 \"New Mexican Cuisine\":\"Mexican\"})"
   ]
  },
  {
   "cell_type": "code",
   "execution_count": 13,
   "metadata": {},
   "outputs": [],
   "source": [
    "#Recategorize Food Type - Latin American\n",
    "nyc_restaurants_df[\"Type\"] = nyc_restaurants_df[\"Type\"].replace({\"Cuban\":\"Latin American\",\"Brazilian\":\"Latin American\",\n",
    "                                                      \"Puerto Rican\":\"Latin American\",\"Argentine\":\"Latin American\",\n",
    "                                                      \"Peruvian\":\"Latin American\",\"Venezuelan\":\"Latin American\",\n",
    "                                                      \"Empanadas\":\"Latin American\",\"Portuguese\":\"Latin American\",\n",
    "                                                      \"Salvadoran\":\"Latin American\"})"
   ]
  },
  {
   "cell_type": "code",
   "execution_count": 14,
   "metadata": {},
   "outputs": [],
   "source": [
    "#Recategorize Food Type - Middle Eastern & Mediterranean\n",
    "nyc_restaurants_df[\"Type\"] = nyc_restaurants_df[\"Type\"].replace({\"Turkish\":\"Middle Eastern\",\"Falafel\":\"Middle Eastern\",\n",
    "                                                      \"Halal\":\"Middle Eastern\",\"Persian/Iranian\":\"Middle Eastern\",\n",
    "                                                      \"Lebanese\":\"Middle Eastern\",\"Georgian\":\"Middle Eastern\",\n",
    "                                                      \"Pakistani\":\"Middle Eastern\",\"Afghan\":\"Middle Eastern\",\n",
    "                                                      \"Greek\":\"Mediterranean\", \"Kebab\":\"Mediterranean\"})"
   ]
  },
  {
   "cell_type": "code",
   "execution_count": 15,
   "metadata": {},
   "outputs": [],
   "source": [
    "#Recategorize Food Type - Variety\n",
    "nyc_restaurants_df[\"Type\"] = nyc_restaurants_df[\"Type\"].replace({\"Barbeque\":\"BBQ\", \"Smokehouse\":\"BBQ\",\n",
    "                                                                 \"Haitian\":\"Carribean\",\"Dominican\":\"Carribean\",\n",
    "                                                                 \"Fast Food\":\"Food Stands\",\"Food Court\":\"Food Stands\",\n",
    "                                                                 \"Bagels\":\"Pretzels & Bagels\", \"Pretzels\":\"Pretzels & Bagels\",\n",
    "                                                                 \"Salad\":\"Soup & Salad\", \"Soup\":\"Soup & Salad\",\n",
    "                                                                 \"Juice Bars & Smoothies\":\"Smoothies & Acai Bowls\", \"Acai Bowls\":\"Smoothies & Acai Bowls\",\n",
    "                                                                 \"Vegan\":\"Vegan & Vegetarian\", \"Vegetarian\":\"Vegan & Vegetarian\"})\n",
    "            "
   ]
  },
  {
   "cell_type": "code",
   "execution_count": 16,
   "metadata": {},
   "outputs": [],
   "source": [
    "#Recategorize Food Type - Other\n",
    "nyc_restaurants_df[\"Type\"] = nyc_restaurants_df[\"Type\"].replace({\"Russian\":\"Other\",\"Filipino\":\"Other\",\n",
    "                                                      \"Australian\":\"Other\",\"African\":\"Other\",\n",
    "                                                      \"Himalayan/Nepalese\":\"Other\",\"Ukrainian\":\"Other\",\n",
    "                                                      \"Ethiopian\":\"Other\",\"Sri Lankan\":\"Other\",\n",
    "                                                      \"Hawaiian\":\"Other\",\"Fondue\":\"Other\",\"Moroccan\":\"Other\",\n",
    "                                                      \"Uzbek\":\"Other\",\"South African\":\"Other\",\n",
    "                                                      \"Bangladeshi\":\"Other\",\"Czech\":\"Other\"})"
   ]
  },
  {
   "cell_type": "code",
   "execution_count": 17,
   "metadata": {},
   "outputs": [],
   "source": [
    "#nyc_restaurants_df[\"Type\"].value_counts()"
   ]
  },
  {
   "cell_type": "code",
   "execution_count": 18,
   "metadata": {},
   "outputs": [
    {
     "data": {
      "text/plain": [
       "(4410, 9)"
      ]
     },
     "execution_count": 18,
     "metadata": {},
     "output_type": "execute_result"
    }
   ],
   "source": [
    "nyc_restaurants_df = nyc_restaurants_df.sort_values([\"Type\"], ascending=True)\n",
    "nyc_restaurants_df.shape\n",
    "#nyc_restaurants_df.tail()"
   ]
  },
  {
   "cell_type": "code",
   "execution_count": 19,
   "metadata": {},
   "outputs": [],
   "source": [
    "# Save the dataframe to a csv file\n",
    "nyc_restaurants_df.to_csv('Resources/NYC_Restaurants_Final.csv', index=False)"
   ]
  }
 ],
 "metadata": {
  "kernelspec": {
   "display_name": "Python 3",
   "language": "python",
   "name": "python3"
  },
  "language_info": {
   "codemirror_mode": {
    "name": "ipython",
    "version": 3
   },
   "file_extension": ".py",
   "mimetype": "text/x-python",
   "name": "python",
   "nbconvert_exporter": "python",
   "pygments_lexer": "ipython3",
   "version": "3.6.5"
  }
 },
 "nbformat": 4,
 "nbformat_minor": 2
}
