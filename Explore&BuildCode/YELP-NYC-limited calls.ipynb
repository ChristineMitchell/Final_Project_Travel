{
 "cells": [
  {
   "cell_type": "code",
   "execution_count": 28,
   "metadata": {},
   "outputs": [],
   "source": [
    "# Dependencies and Setup\n",
    "import pandas as pd\n",
    "import requests\n",
    "import json\n",
    "\n",
    "# Import API key\n",
    "from config import api_key"
   ]
  },
  {
   "cell_type": "markdown",
   "metadata": {},
   "source": [
    "credit: https://www.justintodata.com/python-api-call-to-request-data/"
   ]
  },
  {
   "cell_type": "code",
   "execution_count": 29,
   "metadata": {},
   "outputs": [],
   "source": [
    "# Using the yelp business search API: https://www.yelp.com/developers/documentation/v3/business_search\n",
    "# headers contain the api key.\n",
    "headers = {\"Authorization\": \"Bearer {}\".format(api_key)}\n",
    "search_api_url = \"https://api.yelp.com/v3/businesses/search\""
   ]
  },
  {
   "cell_type": "code",
   "execution_count": 30,
   "metadata": {},
   "outputs": [
    {
     "name": "stdout",
     "output_type": "stream",
     "text": [
      "https://api.yelp.com/v3/businesses/search?term=restaurant&location=New+York&limit=50&offset=0\n",
      "200\n"
     ]
    },
    {
     "data": {
      "text/plain": [
       "50"
      ]
     },
     "execution_count": 30,
     "metadata": {},
     "output_type": "execute_result"
    }
   ],
   "source": [
    "#First set of 50 records\n",
    "nyc_params1 = {\"term\":\"restaurant\",\"location\":\"New York\",\"limit\":50,\"offset\":0}\n",
    "nyc_response1 = requests.get(search_api_url, headers=headers, params=nyc_params1)\n",
    "print(nyc_response1.url)\n",
    "print(nyc_response1.status_code)\n",
    "nyc1 = nyc_response1.json()\n",
    "# Print the json (pretty printed)\n",
    "# print(json.dumps(nyc, indent=4, sort_keys=True))\n",
    "#create dataframe\n",
    "nyc1_df = pd.DataFrame(nyc1['businesses'])\n",
    "new_column = [\"name\",\"categories\",\"price\",\"rating\",\"coordinates\",\"location\",\"id\",\"image_url\"]\n",
    "nyc1_df = nyc1_df[new_column]\n",
    "nyc1_df[nyc1_df.columns[0]].count()"
   ]
  },
  {
   "cell_type": "code",
   "execution_count": 31,
   "metadata": {},
   "outputs": [
    {
     "name": "stdout",
     "output_type": "stream",
     "text": [
      "https://api.yelp.com/v3/businesses/search?term=restaurant&location=New+York&limit=50&offset=51\n",
      "200\n"
     ]
    },
    {
     "data": {
      "text/plain": [
       "50"
      ]
     },
     "execution_count": 31,
     "metadata": {},
     "output_type": "execute_result"
    }
   ],
   "source": [
    "#2nd set of 50 records 51-100 \n",
    "nyc_params2 = {\"term\":\"restaurant\",\"location\":\"New York\",\"limit\":50,\"offset\":51}\n",
    "nyc_response2 = requests.get(search_api_url, headers=headers, params=nyc_params2)\n",
    "print(nyc_response2.url)\n",
    "print(nyc_response2.status_code)\n",
    "nyc2 = nyc_response2.json()\n",
    "nyc2_df = pd.DataFrame(nyc2['businesses'])\n",
    "nyc2_df = nyc2_df[new_column]\n",
    "nyc2_df[nyc2_df.columns[0]].count()"
   ]
  },
  {
   "cell_type": "code",
   "execution_count": 32,
   "metadata": {},
   "outputs": [
    {
     "name": "stdout",
     "output_type": "stream",
     "text": [
      "https://api.yelp.com/v3/businesses/search?term=restaurant&location=New+York&limit=50&offset=101\n",
      "200\n"
     ]
    },
    {
     "data": {
      "text/plain": [
       "50"
      ]
     },
     "execution_count": 32,
     "metadata": {},
     "output_type": "execute_result"
    }
   ],
   "source": [
    "#3rd set of 50 records 101-150\n",
    "nyc_params3 = {\"term\":\"restaurant\",\"location\":\"New York\",\"limit\":50,\"offset\":101}\n",
    "nyc_response3 = requests.get(search_api_url, headers=headers, params=nyc_params3)\n",
    "print(nyc_response3.url)\n",
    "print(nyc_response3.status_code)\n",
    "nyc3 = nyc_response3.json()\n",
    "nyc3_df = pd.DataFrame(nyc3['businesses'])\n",
    "nyc3_df = nyc3_df[new_column]\n",
    "nyc3_df[nyc3_df.columns[0]].count()"
   ]
  },
  {
   "cell_type": "code",
   "execution_count": 33,
   "metadata": {},
   "outputs": [
    {
     "name": "stdout",
     "output_type": "stream",
     "text": [
      "https://api.yelp.com/v3/businesses/search?term=restaurant&location=New+York&limit=50&offset=151\n",
      "200\n"
     ]
    },
    {
     "data": {
      "text/plain": [
       "50"
      ]
     },
     "execution_count": 33,
     "metadata": {},
     "output_type": "execute_result"
    }
   ],
   "source": [
    "#4th set of 50 records 151-200\n",
    "nyc_params4 = {\"term\":\"restaurant\",\"location\":\"New York\",\"limit\":50,\"offset\":151}\n",
    "nyc_response4 = requests.get(search_api_url, headers=headers, params=nyc_params4)\n",
    "print(nyc_response4.url)\n",
    "print(nyc_response4.status_code)\n",
    "nyc4 = nyc_response4.json()\n",
    "nyc4_df = pd.DataFrame(nyc4['businesses'])\n",
    "nyc4_df = nyc4_df[new_column]\n",
    "nyc4_df[nyc4_df.columns[0]].count()"
   ]
  },
  {
   "cell_type": "code",
   "execution_count": 35,
   "metadata": {},
   "outputs": [
    {
     "name": "stdout",
     "output_type": "stream",
     "text": [
      "https://api.yelp.com/v3/businesses/search?term=restaurant&location=New+York&limit=50&offset=201\n",
      "500\n"
     ]
    },
    {
     "ename": "KeyError",
     "evalue": "'businesses'",
     "output_type": "error",
     "traceback": [
      "\u001b[1;31m---------------------------------------------------------------------------\u001b[0m",
      "\u001b[1;31mKeyError\u001b[0m                                  Traceback (most recent call last)",
      "\u001b[1;32m<ipython-input-35-4d8feb2ee95a>\u001b[0m in \u001b[0;36m<module>\u001b[1;34m()\u001b[0m\n\u001b[0;32m      5\u001b[0m \u001b[0mprint\u001b[0m\u001b[1;33m(\u001b[0m\u001b[0mnyc_response5\u001b[0m\u001b[1;33m.\u001b[0m\u001b[0mstatus_code\u001b[0m\u001b[1;33m)\u001b[0m\u001b[1;33m\u001b[0m\u001b[0m\n\u001b[0;32m      6\u001b[0m \u001b[0mnyc5\u001b[0m \u001b[1;33m=\u001b[0m \u001b[0mnyc_response5\u001b[0m\u001b[1;33m.\u001b[0m\u001b[0mjson\u001b[0m\u001b[1;33m(\u001b[0m\u001b[1;33m)\u001b[0m\u001b[1;33m\u001b[0m\u001b[0m\n\u001b[1;32m----> 7\u001b[1;33m \u001b[0mnyc5_df\u001b[0m \u001b[1;33m=\u001b[0m \u001b[0mpd\u001b[0m\u001b[1;33m.\u001b[0m\u001b[0mDataFrame\u001b[0m\u001b[1;33m(\u001b[0m\u001b[0mnyc5\u001b[0m\u001b[1;33m[\u001b[0m\u001b[1;34m'businesses'\u001b[0m\u001b[1;33m]\u001b[0m\u001b[1;33m)\u001b[0m\u001b[1;33m\u001b[0m\u001b[0m\n\u001b[0m\u001b[0;32m      8\u001b[0m \u001b[0mnyc5_df\u001b[0m \u001b[1;33m=\u001b[0m \u001b[0mnyc5_df\u001b[0m\u001b[1;33m[\u001b[0m\u001b[0mnew_column\u001b[0m\u001b[1;33m]\u001b[0m\u001b[1;33m\u001b[0m\u001b[0m\n\u001b[0;32m      9\u001b[0m \u001b[0mnyc5_df\u001b[0m\u001b[1;33m[\u001b[0m\u001b[0mnyc5_df\u001b[0m\u001b[1;33m.\u001b[0m\u001b[0mcolumns\u001b[0m\u001b[1;33m[\u001b[0m\u001b[1;36m0\u001b[0m\u001b[1;33m]\u001b[0m\u001b[1;33m]\u001b[0m\u001b[1;33m.\u001b[0m\u001b[0mcount\u001b[0m\u001b[1;33m(\u001b[0m\u001b[1;33m)\u001b[0m\u001b[1;33m\u001b[0m\u001b[0m\n",
      "\u001b[1;31mKeyError\u001b[0m: 'businesses'"
     ]
    }
   ],
   "source": [
    "#5th set of 50 records 201-250\n",
    "nyc_params5 = {\"term\":\"restaurant\",\"location\":\"New York\",\"limit\":50,\"offset\":201}\n",
    "nyc_response5 = requests.get(search_api_url, headers=headers, params=nyc_params5)\n",
    "print(nyc_response5.url)\n",
    "print(nyc_response5.status_code)\n",
    "nyc5 = nyc_response5.json()\n",
    "nyc5_df = pd.DataFrame(nyc5['businesses'])\n",
    "nyc5_df = nyc5_df[new_column]\n",
    "nyc5_df[nyc5_df.columns[0]].count()"
   ]
  },
  {
   "cell_type": "code",
   "execution_count": 36,
   "metadata": {},
   "outputs": [
    {
     "name": "stdout",
     "output_type": "stream",
     "text": [
      "https://api.yelp.com/v3/businesses/search?term=restaurant&location=New+York&limit=50&offset=251\n",
      "500\n"
     ]
    },
    {
     "ename": "KeyError",
     "evalue": "'businesses'",
     "output_type": "error",
     "traceback": [
      "\u001b[1;31m---------------------------------------------------------------------------\u001b[0m",
      "\u001b[1;31mKeyError\u001b[0m                                  Traceback (most recent call last)",
      "\u001b[1;32m<ipython-input-36-1b61965fbb86>\u001b[0m in \u001b[0;36m<module>\u001b[1;34m()\u001b[0m\n\u001b[0;32m      5\u001b[0m \u001b[0mprint\u001b[0m\u001b[1;33m(\u001b[0m\u001b[0mnyc_response6\u001b[0m\u001b[1;33m.\u001b[0m\u001b[0mstatus_code\u001b[0m\u001b[1;33m)\u001b[0m\u001b[1;33m\u001b[0m\u001b[0m\n\u001b[0;32m      6\u001b[0m \u001b[0mnyc6\u001b[0m \u001b[1;33m=\u001b[0m \u001b[0mnyc_response6\u001b[0m\u001b[1;33m.\u001b[0m\u001b[0mjson\u001b[0m\u001b[1;33m(\u001b[0m\u001b[1;33m)\u001b[0m\u001b[1;33m\u001b[0m\u001b[0m\n\u001b[1;32m----> 7\u001b[1;33m \u001b[0mnyc6_df\u001b[0m \u001b[1;33m=\u001b[0m \u001b[0mpd\u001b[0m\u001b[1;33m.\u001b[0m\u001b[0mDataFrame\u001b[0m\u001b[1;33m(\u001b[0m\u001b[0mnyc6\u001b[0m\u001b[1;33m[\u001b[0m\u001b[1;34m'businesses'\u001b[0m\u001b[1;33m]\u001b[0m\u001b[1;33m)\u001b[0m\u001b[1;33m\u001b[0m\u001b[0m\n\u001b[0m\u001b[0;32m      8\u001b[0m \u001b[0mnyc6_df\u001b[0m \u001b[1;33m=\u001b[0m \u001b[0mnyc6_df\u001b[0m\u001b[1;33m[\u001b[0m\u001b[0mnew_column\u001b[0m\u001b[1;33m]\u001b[0m\u001b[1;33m\u001b[0m\u001b[0m\n\u001b[0;32m      9\u001b[0m \u001b[0mnyc6_df\u001b[0m\u001b[1;33m[\u001b[0m\u001b[0mnyc6_df\u001b[0m\u001b[1;33m.\u001b[0m\u001b[0mcolumns\u001b[0m\u001b[1;33m[\u001b[0m\u001b[1;36m0\u001b[0m\u001b[1;33m]\u001b[0m\u001b[1;33m]\u001b[0m\u001b[1;33m.\u001b[0m\u001b[0mcount\u001b[0m\u001b[1;33m(\u001b[0m\u001b[1;33m)\u001b[0m\u001b[1;33m\u001b[0m\u001b[0m\n",
      "\u001b[1;31mKeyError\u001b[0m: 'businesses'"
     ]
    }
   ],
   "source": [
    "#6th set of 50 records 251-300\n",
    "nyc_params6 = {\"term\":\"restaurant\",\"location\":\"New York\",\"limit\":50,\"offset\":251}\n",
    "nyc_response6 = requests.get(search_api_url, headers=headers, params=nyc_params6)\n",
    "print(nyc_response6.url)\n",
    "print(nyc_response6.status_code)\n",
    "nyc6 = nyc_response6.json()\n",
    "nyc6_df = pd.DataFrame(nyc6['businesses'])\n",
    "nyc6_df = nyc6_df[new_column]\n",
    "nyc6_df[nyc6_df.columns[0]].count()"
   ]
  },
  {
   "cell_type": "code",
   "execution_count": 37,
   "metadata": {},
   "outputs": [
    {
     "name": "stdout",
     "output_type": "stream",
     "text": [
      "https://api.yelp.com/v3/businesses/search?term=restaurant&location=New+York&limit=50&offset=301\n",
      "500\n"
     ]
    },
    {
     "ename": "KeyError",
     "evalue": "'businesses'",
     "output_type": "error",
     "traceback": [
      "\u001b[1;31m---------------------------------------------------------------------------\u001b[0m",
      "\u001b[1;31mKeyError\u001b[0m                                  Traceback (most recent call last)",
      "\u001b[1;32m<ipython-input-37-4aa0887f8a9b>\u001b[0m in \u001b[0;36m<module>\u001b[1;34m()\u001b[0m\n\u001b[0;32m      5\u001b[0m \u001b[0mprint\u001b[0m\u001b[1;33m(\u001b[0m\u001b[0mnyc_response7\u001b[0m\u001b[1;33m.\u001b[0m\u001b[0mstatus_code\u001b[0m\u001b[1;33m)\u001b[0m\u001b[1;33m\u001b[0m\u001b[0m\n\u001b[0;32m      6\u001b[0m \u001b[0mnyc7\u001b[0m \u001b[1;33m=\u001b[0m \u001b[0mnyc_response7\u001b[0m\u001b[1;33m.\u001b[0m\u001b[0mjson\u001b[0m\u001b[1;33m(\u001b[0m\u001b[1;33m)\u001b[0m\u001b[1;33m\u001b[0m\u001b[0m\n\u001b[1;32m----> 7\u001b[1;33m \u001b[0mnyc7_df\u001b[0m \u001b[1;33m=\u001b[0m \u001b[0mpd\u001b[0m\u001b[1;33m.\u001b[0m\u001b[0mDataFrame\u001b[0m\u001b[1;33m(\u001b[0m\u001b[0mnyc7\u001b[0m\u001b[1;33m[\u001b[0m\u001b[1;34m'businesses'\u001b[0m\u001b[1;33m]\u001b[0m\u001b[1;33m)\u001b[0m\u001b[1;33m\u001b[0m\u001b[0m\n\u001b[0m\u001b[0;32m      8\u001b[0m \u001b[0mnyc7_df\u001b[0m \u001b[1;33m=\u001b[0m \u001b[0mnyc4_df\u001b[0m\u001b[1;33m[\u001b[0m\u001b[0mnew_column\u001b[0m\u001b[1;33m]\u001b[0m\u001b[1;33m\u001b[0m\u001b[0m\n\u001b[0;32m      9\u001b[0m \u001b[0mnyc7_df\u001b[0m\u001b[1;33m[\u001b[0m\u001b[0mnyc7_df\u001b[0m\u001b[1;33m.\u001b[0m\u001b[0mcolumns\u001b[0m\u001b[1;33m[\u001b[0m\u001b[1;36m0\u001b[0m\u001b[1;33m]\u001b[0m\u001b[1;33m]\u001b[0m\u001b[1;33m.\u001b[0m\u001b[0mcount\u001b[0m\u001b[1;33m(\u001b[0m\u001b[1;33m)\u001b[0m\u001b[1;33m\u001b[0m\u001b[0m\n",
      "\u001b[1;31mKeyError\u001b[0m: 'businesses'"
     ]
    }
   ],
   "source": [
    "#7th set of 50 records 301-350\n",
    "nyc_params7 = {\"term\":\"restaurant\",\"location\":\"New York\",\"limit\":50,\"offset\":301}\n",
    "nyc_response7 = requests.get(search_api_url, headers=headers, params=nyc_params7)\n",
    "print(nyc_response7.url)\n",
    "print(nyc_response7.status_code)\n",
    "nyc7 = nyc_response7.json()\n",
    "nyc7_df = pd.DataFrame(nyc7['businesses'])\n",
    "nyc7_df = nyc4_df[new_column]\n",
    "nyc7_df[nyc7_df.columns[0]].count()"
   ]
  },
  {
   "cell_type": "code",
   "execution_count": 38,
   "metadata": {},
   "outputs": [
    {
     "name": "stdout",
     "output_type": "stream",
     "text": [
      "https://api.yelp.com/v3/businesses/search?term=restaurant&location=New+York&limit=50&offset=351\n",
      "500\n"
     ]
    },
    {
     "ename": "KeyError",
     "evalue": "'businesses'",
     "output_type": "error",
     "traceback": [
      "\u001b[1;31m---------------------------------------------------------------------------\u001b[0m",
      "\u001b[1;31mKeyError\u001b[0m                                  Traceback (most recent call last)",
      "\u001b[1;32m<ipython-input-38-4c8bdd17aae7>\u001b[0m in \u001b[0;36m<module>\u001b[1;34m()\u001b[0m\n\u001b[0;32m      5\u001b[0m \u001b[0mprint\u001b[0m\u001b[1;33m(\u001b[0m\u001b[0mnyc_response8\u001b[0m\u001b[1;33m.\u001b[0m\u001b[0mstatus_code\u001b[0m\u001b[1;33m)\u001b[0m\u001b[1;33m\u001b[0m\u001b[0m\n\u001b[0;32m      6\u001b[0m \u001b[0mnyc8\u001b[0m \u001b[1;33m=\u001b[0m \u001b[0mnyc_response8\u001b[0m\u001b[1;33m.\u001b[0m\u001b[0mjson\u001b[0m\u001b[1;33m(\u001b[0m\u001b[1;33m)\u001b[0m\u001b[1;33m\u001b[0m\u001b[0m\n\u001b[1;32m----> 7\u001b[1;33m \u001b[0mnyc8_df\u001b[0m \u001b[1;33m=\u001b[0m \u001b[0mpd\u001b[0m\u001b[1;33m.\u001b[0m\u001b[0mDataFrame\u001b[0m\u001b[1;33m(\u001b[0m\u001b[0mnyc8\u001b[0m\u001b[1;33m[\u001b[0m\u001b[1;34m'businesses'\u001b[0m\u001b[1;33m]\u001b[0m\u001b[1;33m)\u001b[0m\u001b[1;33m\u001b[0m\u001b[0m\n\u001b[0m\u001b[0;32m      8\u001b[0m \u001b[0mnyc8_df\u001b[0m \u001b[1;33m=\u001b[0m \u001b[0mnyc8_df\u001b[0m\u001b[1;33m[\u001b[0m\u001b[0mnew_column\u001b[0m\u001b[1;33m]\u001b[0m\u001b[1;33m\u001b[0m\u001b[0m\n\u001b[0;32m      9\u001b[0m \u001b[0mnyc8_df\u001b[0m\u001b[1;33m[\u001b[0m\u001b[0mnyc8_df\u001b[0m\u001b[1;33m.\u001b[0m\u001b[0mcolumns\u001b[0m\u001b[1;33m[\u001b[0m\u001b[1;36m0\u001b[0m\u001b[1;33m]\u001b[0m\u001b[1;33m]\u001b[0m\u001b[1;33m.\u001b[0m\u001b[0mcount\u001b[0m\u001b[1;33m(\u001b[0m\u001b[1;33m)\u001b[0m\u001b[1;33m\u001b[0m\u001b[0m\n",
      "\u001b[1;31mKeyError\u001b[0m: 'businesses'"
     ]
    }
   ],
   "source": [
    "#8th set of 50 records 351-400\n",
    "nyc_params8 = {\"term\":\"restaurant\",\"location\":\"New York\",\"limit\":50,\"offset\":351}\n",
    "nyc_response8 = requests.get(search_api_url, headers=headers, params=nyc_params8)\n",
    "print(nyc_response8.url)\n",
    "print(nyc_response8.status_code)\n",
    "nyc8 = nyc_response8.json()\n",
    "nyc8_df = pd.DataFrame(nyc8['businesses'])\n",
    "nyc8_df = nyc8_df[new_column]\n",
    "nyc8_df[nyc8_df.columns[0]].count()"
   ]
  },
  {
   "cell_type": "code",
   "execution_count": 39,
   "metadata": {},
   "outputs": [
    {
     "name": "stdout",
     "output_type": "stream",
     "text": [
      "https://api.yelp.com/v3/businesses/search?term=restaurant&location=New+York&limit=50&offset=401\n",
      "500\n"
     ]
    },
    {
     "ename": "KeyError",
     "evalue": "'businesses'",
     "output_type": "error",
     "traceback": [
      "\u001b[1;31m---------------------------------------------------------------------------\u001b[0m",
      "\u001b[1;31mKeyError\u001b[0m                                  Traceback (most recent call last)",
      "\u001b[1;32m<ipython-input-39-82e85cdb2e7c>\u001b[0m in \u001b[0;36m<module>\u001b[1;34m()\u001b[0m\n\u001b[0;32m      5\u001b[0m \u001b[0mprint\u001b[0m\u001b[1;33m(\u001b[0m\u001b[0mnyc_response9\u001b[0m\u001b[1;33m.\u001b[0m\u001b[0mstatus_code\u001b[0m\u001b[1;33m)\u001b[0m\u001b[1;33m\u001b[0m\u001b[0m\n\u001b[0;32m      6\u001b[0m \u001b[0mnyc9\u001b[0m \u001b[1;33m=\u001b[0m \u001b[0mnyc_response9\u001b[0m\u001b[1;33m.\u001b[0m\u001b[0mjson\u001b[0m\u001b[1;33m(\u001b[0m\u001b[1;33m)\u001b[0m\u001b[1;33m\u001b[0m\u001b[0m\n\u001b[1;32m----> 7\u001b[1;33m \u001b[0mnyc9_df\u001b[0m \u001b[1;33m=\u001b[0m \u001b[0mpd\u001b[0m\u001b[1;33m.\u001b[0m\u001b[0mDataFrame\u001b[0m\u001b[1;33m(\u001b[0m\u001b[0mnyc9\u001b[0m\u001b[1;33m[\u001b[0m\u001b[1;34m'businesses'\u001b[0m\u001b[1;33m]\u001b[0m\u001b[1;33m)\u001b[0m\u001b[1;33m\u001b[0m\u001b[0m\n\u001b[0m\u001b[0;32m      8\u001b[0m \u001b[0mnyc9_df\u001b[0m \u001b[1;33m=\u001b[0m \u001b[0mnyc9_df\u001b[0m\u001b[1;33m[\u001b[0m\u001b[0mnew_column\u001b[0m\u001b[1;33m]\u001b[0m\u001b[1;33m\u001b[0m\u001b[0m\n\u001b[0;32m      9\u001b[0m \u001b[0mnyc9_df\u001b[0m\u001b[1;33m[\u001b[0m\u001b[0mnyc9_df\u001b[0m\u001b[1;33m.\u001b[0m\u001b[0mcolumns\u001b[0m\u001b[1;33m[\u001b[0m\u001b[1;36m0\u001b[0m\u001b[1;33m]\u001b[0m\u001b[1;33m]\u001b[0m\u001b[1;33m.\u001b[0m\u001b[0mcount\u001b[0m\u001b[1;33m(\u001b[0m\u001b[1;33m)\u001b[0m\u001b[1;33m\u001b[0m\u001b[0m\n",
      "\u001b[1;31mKeyError\u001b[0m: 'businesses'"
     ]
    }
   ],
   "source": [
    "#9th set of 50 records 401-450\n",
    "nyc_params9 = {\"term\":\"restaurant\",\"location\":\"New York\",\"limit\":50,\"offset\":401}\n",
    "nyc_response9 = requests.get(search_api_url, headers=headers, params=nyc_params9)\n",
    "print(nyc_response9.url)\n",
    "print(nyc_response9.status_code)\n",
    "nyc9 = nyc_response9.json()\n",
    "nyc9_df = pd.DataFrame(nyc9['businesses'])\n",
    "nyc9_df = nyc9_df[new_column]\n",
    "nyc9_df[nyc9_df.columns[0]].count()"
   ]
  },
  {
   "cell_type": "code",
   "execution_count": 40,
   "metadata": {},
   "outputs": [
    {
     "name": "stdout",
     "output_type": "stream",
     "text": [
      "https://api.yelp.com/v3/businesses/search?term=restaurant&location=New+York&limit=50&offset=451\n",
      "500\n"
     ]
    },
    {
     "ename": "KeyError",
     "evalue": "'businesses'",
     "output_type": "error",
     "traceback": [
      "\u001b[1;31m---------------------------------------------------------------------------\u001b[0m",
      "\u001b[1;31mKeyError\u001b[0m                                  Traceback (most recent call last)",
      "\u001b[1;32m<ipython-input-40-18d2702af97d>\u001b[0m in \u001b[0;36m<module>\u001b[1;34m()\u001b[0m\n\u001b[0;32m      5\u001b[0m \u001b[0mprint\u001b[0m\u001b[1;33m(\u001b[0m\u001b[0mnyc_response10\u001b[0m\u001b[1;33m.\u001b[0m\u001b[0mstatus_code\u001b[0m\u001b[1;33m)\u001b[0m\u001b[1;33m\u001b[0m\u001b[0m\n\u001b[0;32m      6\u001b[0m \u001b[0mnyc10\u001b[0m \u001b[1;33m=\u001b[0m \u001b[0mnyc_response10\u001b[0m\u001b[1;33m.\u001b[0m\u001b[0mjson\u001b[0m\u001b[1;33m(\u001b[0m\u001b[1;33m)\u001b[0m\u001b[1;33m\u001b[0m\u001b[0m\n\u001b[1;32m----> 7\u001b[1;33m \u001b[0mnyc10_df\u001b[0m \u001b[1;33m=\u001b[0m \u001b[0mpd\u001b[0m\u001b[1;33m.\u001b[0m\u001b[0mDataFrame\u001b[0m\u001b[1;33m(\u001b[0m\u001b[0mnyc10\u001b[0m\u001b[1;33m[\u001b[0m\u001b[1;34m'businesses'\u001b[0m\u001b[1;33m]\u001b[0m\u001b[1;33m)\u001b[0m\u001b[1;33m\u001b[0m\u001b[0m\n\u001b[0m\u001b[0;32m      8\u001b[0m \u001b[0mnyc10_df\u001b[0m \u001b[1;33m=\u001b[0m \u001b[0mnyc10_df\u001b[0m\u001b[1;33m[\u001b[0m\u001b[0mnew_column\u001b[0m\u001b[1;33m]\u001b[0m\u001b[1;33m\u001b[0m\u001b[0m\n\u001b[0;32m      9\u001b[0m \u001b[0mnyc10_df\u001b[0m\u001b[1;33m[\u001b[0m\u001b[0mnyc10_df\u001b[0m\u001b[1;33m.\u001b[0m\u001b[0mcolumns\u001b[0m\u001b[1;33m[\u001b[0m\u001b[1;36m0\u001b[0m\u001b[1;33m]\u001b[0m\u001b[1;33m]\u001b[0m\u001b[1;33m.\u001b[0m\u001b[0mcount\u001b[0m\u001b[1;33m(\u001b[0m\u001b[1;33m)\u001b[0m\u001b[1;33m\u001b[0m\u001b[0m\n",
      "\u001b[1;31mKeyError\u001b[0m: 'businesses'"
     ]
    }
   ],
   "source": [
    "#10th set of 50 records 451-500\n",
    "nyc_params10 = {\"term\":\"restaurant\",\"location\":\"New York\",\"limit\":50,\"offset\":451}\n",
    "nyc_response10 = requests.get(search_api_url, headers=headers, params=nyc_params10)\n",
    "print(nyc_response10.url)\n",
    "print(nyc_response10.status_code)\n",
    "nyc10 = nyc_response10.json()\n",
    "nyc10_df = pd.DataFrame(nyc10['businesses'])\n",
    "nyc10_df = nyc10_df[new_column]\n",
    "nyc10_df[nyc10_df.columns[0]].count()"
   ]
  },
  {
   "cell_type": "code",
   "execution_count": null,
   "metadata": {},
   "outputs": [],
   "source": []
  }
 ],
 "metadata": {
  "kernelspec": {
   "display_name": "Python 3",
   "language": "python",
   "name": "python3"
  },
  "language_info": {
   "codemirror_mode": {
    "name": "ipython",
    "version": 3
   },
   "file_extension": ".py",
   "mimetype": "text/x-python",
   "name": "python",
   "nbconvert_exporter": "python",
   "pygments_lexer": "ipython3",
   "version": "3.6.5"
  }
 },
 "nbformat": 4,
 "nbformat_minor": 2
}
