{
 "cells": [
  {
   "cell_type": "code",
   "execution_count": 1,
   "metadata": {},
   "outputs": [],
   "source": [
    "## Dependencies and Setup\n",
    "import pandas as pd"
   ]
  },
  {
   "cell_type": "code",
   "execution_count": 2,
   "metadata": {
    "scrolled": true
   },
   "outputs": [],
   "source": [
    "## Files to Load\n",
    "American = \"Resources/NYC_Restaurants_American.csv\"\n",
    "Bagel = \"Resources/NYC_Restaurants_Bagel.csv\"\n",
    "Bakery = \"Resources/NYC_Restaurants_Bakery.csv\"\n",
    "Bar = \"Resources/NYC_Restaurants_Bar.csv\"\n",
    "BBQ = \"Resources/NYC_Restaurants_BBQ.csv\"\n",
    "British = \"Resources/NYC_Restaurants_British.csv\"\n",
    "Brunch = \"Resources/NYC_Restaurants_Brunch.csv\"\n",
    "Buffet = \"Resources/NYC_Restaurants_Buffet.csv\"\n",
    "Cafe = \"Resources/NYC_Restaurants_Cafe.csv\"\n",
    "Cajun = \"Resources/NYC_Restaurants_Cajun.csv\"\n",
    "Chinese = \"Resources/NYC_Restaurants_Chinese.csv\"\n",
    "Coffee = \"Resources/NYC_Restaurants_Coffee.csv\"\n",
    "Deli = \"Resources/NYC_Restaurants_Deli.csv\"\n",
    "Donuts = \"Resources/NYC_Restaurants_Donuts.csv\"\n",
    "Fondue = \"Resources/NYC_Restaurants_Fondue.csv\"\n",
    "French = \"Resources/NYC_Restaurants_French.csv\"\n",
    "German = \"Resources/NYC_Restaurants_German.csv\"\n",
    "HotDog = \"Resources/NYC_Restaurants_HotDog.csv\"\n",
    "IceCream = \"Resources/NYC_Restaurants_IceCream.csv\"\n",
    "Indian = \"Resources/NYC_Restaurants_Indian.csv\"\n",
    "Irish = \"Resources/NYC_Restaurants_Irish.csv\"\n",
    "Italian = \"Resources/NYC_Restaurants_Italian.csv\"\n",
    "Japanese = \"Resources/NYC_Restaurants_Japanese.csv\"\n",
    "Kosher = \"Resources/NYC_Restaurants_Kosher.csv\"\n",
    "Mediterranean = \"Resources/NYC_Restaurants_Mediterranean.csv\"\n",
    "Mexican = \"Resources/NYC_Restaurants_Mexican.csv\"\n",
    "Original = \"Resources/NYC_Restaurants_200.csv\"\n",
    "Pizza = \"Resources/NYC_Restaurants_Pizza.csv\"\n",
    "Polish = \"Resources/NYC_Restaurants_Polish.csv\"\n",
    "Pretzel = \"Resources/NYC_Restaurants_Pretzel.csv\"\n",
    "PuertoRican = \"Resources/NYC_Restaurants_PuertoRican.csv\"\n",
    "Seafood = \"Resources/NYC_Restaurants_Seafood.csv\"\n",
    "Smoothies = \"Resources/NYC_Restaurants_Smoothies.csv\"\n",
    "SoulFood = \"Resources/NYC_Restaurants_SoulFood.csv\"\n",
    "SoupAndSalad = \"Resources/NYC_Restaurants_SoupAndSalad.csv\"\n",
    "SpeakEasy = \"Resources/NYC_Restaurants_SpeakEasy.csv\"\n",
    "Steakhouse = \"Resources/NYC_Restaurants_Steakhouse.csv\"\n",
    "Sushi = \"Resources/NYC_Restaurants_Sushi.csv\"\n",
    "Tacos = \"Resources/NYC_Restaurants_Tacos.csv\"\n",
    "Tapas = \"Resources/NYC_Restaurants_Tapas.csv\"\n",
    "Tea = \"Resources/NYC_Restaurants_Tea.csv\"\n",
    "Thai = \"Resources/NYC_Restaurants_Thai.csv\"\n",
    "Vegetarian = \"Resources/NYC_Restaurants_Vegetarian.csv\"\n",
    "Wraps = \"Resources/NYC_Restaurants_Wrap.csv\""
   ]
  },
  {
   "cell_type": "code",
   "execution_count": 3,
   "metadata": {},
   "outputs": [],
   "source": [
    "## Read the data and store into a Pandas DataFrame\n",
    "American_df = pd.read_csv(American, encoding=\"ISO-8859-1\")\n",
    "Bagel_df = pd.read_csv(Bagel, encoding=\"ISO-8859-1\")\n",
    "Bakery_df = pd.read_csv(Bakery, encoding=\"ISO-8859-1\")\n",
    "Bar_df = pd.read_csv(Bar, encoding=\"ISO-8859-1\")\n",
    "BBQ_df = pd.read_csv(BBQ, encoding=\"ISO-8859-1\")\n",
    "British_df = pd.read_csv(British, encoding=\"ISO-8859-1\")\n",
    "Brunch_df = pd.read_csv(Brunch, encoding=\"ISO-8859-1\")\n",
    "Buffet_df = pd.read_csv(Buffet, encoding=\"ISO-8859-1\")\n",
    "Cafe_df = pd.read_csv(Cafe, encoding=\"ISO-8859-1\")\n",
    "Cajun_df = pd.read_csv(Cajun, encoding=\"ISO-8859-1\")\n",
    "Chinese_df = pd.read_csv(Chinese, encoding=\"ISO-8859-1\")\n",
    "Coffee_df = pd.read_csv(Coffee, encoding=\"ISO-8859-1\")\n",
    "Deli_df = pd.read_csv(Deli, encoding=\"ISO-8859-1\")\n",
    "Donuts_df = pd.read_csv(Donuts, encoding=\"ISO-8859-1\")\n",
    "Fondue_df = pd.read_csv(Fondue, encoding=\"ISO-8859-1\")\n",
    "French_df = pd.read_csv(French, encoding=\"ISO-8859-1\")\n",
    "German_df = pd.read_csv(German, encoding=\"ISO-8859-1\")\n",
    "HotDog_df = pd.read_csv(HotDog, encoding=\"ISO-8859-1\")\n",
    "IceCream_df = pd.read_csv(IceCream, encoding=\"ISO-8859-1\")\n",
    "Indian_df = pd.read_csv(Indian, encoding=\"ISO-8859-1\")\n",
    "Irish_df = pd.read_csv(Irish, encoding=\"ISO-8859-1\")\n",
    "Italian_df = pd.read_csv(Italian, encoding=\"ISO-8859-1\")\n",
    "Japanese_df = pd.read_csv(Japanese, encoding=\"ISO-8859-1\")\n",
    "Kosher_df = pd.read_csv(Kosher, encoding=\"ISO-8859-1\")\n",
    "Mediterranean_df = pd.read_csv(Mediterranean, encoding=\"ISO-8859-1\")\n",
    "Mexican_df = pd.read_csv(Pizza, encoding=\"ISO-8859-1\")\n",
    "Original_df = pd.read_csv(Original, encoding=\"ISO-8859-1\")\n",
    "Pizza_df = pd.read_csv(Pizza, encoding=\"ISO-8859-1\")\n",
    "Polish_df = pd.read_csv(Polish, encoding=\"ISO-8859-1\")\n",
    "Pretzel_df = pd.read_csv(Pretzel, encoding=\"ISO-8859-1\")\n",
    "PuertoRican_df = pd.read_csv(PuertoRican, encoding=\"ISO-8859-1\")\n",
    "Seafood_df = pd.read_csv(Seafood, encoding=\"ISO-8859-1\")\n",
    "Smoothies_df = pd.read_csv(Smoothies, encoding=\"ISO-8859-1\")\n",
    "SoulFood_df = pd.read_csv(SoulFood, encoding=\"ISO-8859-1\")\n",
    "SoupAndSalad_df = pd.read_csv(SoupAndSalad, encoding=\"ISO-8859-1\")\n",
    "SpeakEasy_df = pd.read_csv(SpeakEasy, encoding=\"ISO-8859-1\")\n",
    "Steakhouse_df = pd.read_csv(Steakhouse, encoding=\"ISO-8859-1\")\n",
    "Sushi_df = pd.read_csv(Sushi, encoding=\"ISO-8859-1\")\n",
    "Tacos_df = pd.read_csv(Tacos, encoding=\"ISO-8859-1\")\n",
    "Tapas_df = pd.read_csv(Tapas, encoding=\"ISO-8859-1\")\n",
    "Tea_df = pd.read_csv(Tea, encoding=\"ISO-8859-1\")\n",
    "Thai_df = pd.read_csv(Thai, encoding=\"ISO-8859-1\")\n",
    "Vegetarian_df = pd.read_csv(Vegetarian, encoding=\"ISO-8859-1\")\n",
    "Wraps_df = pd.read_csv(Wraps, encoding=\"ISO-8859-1\")"
   ]
  },
  {
   "cell_type": "code",
   "execution_count": 4,
   "metadata": {},
   "outputs": [
    {
     "data": {
      "text/plain": [
       "(8694, 10)"
      ]
     },
     "execution_count": 4,
     "metadata": {},
     "output_type": "execute_result"
    }
   ],
   "source": [
    "nyc_restaurants_df = pd.concat([American_df,Bagel_df,Bakery_df,Bar_df,BBQ_df,British_df,\n",
    "                                Brunch_df,Buffet_df,Cafe_df,Cajun_df,Chinese_df,Coffee_df,\n",
    "                                Deli_df,Donuts_df,Fondue_df,French_df,German_df,HotDog_df,\n",
    "                                IceCream_df,Indian_df,Irish_df,Italian_df,Japanese_df,Kosher_df,\n",
    "                                Mediterranean_df,Mexican_df,Original_df,Pizza_df,Polish_df,\n",
    "                                Pretzel_df,PuertoRican_df,Seafood_df,Smoothies_df,SoulFood_df,\n",
    "                                SoupAndSalad_df,SpeakEasy_df,Steakhouse_df,Sushi_df,Tacos_df,\n",
    "                                Tapas_df,Tea_df,Thai_df,Vegetarian_df,Wraps_df], sort=True)\n",
    "nyc_restaurants_df.shape"
   ]
  },
  {
   "cell_type": "code",
   "execution_count": 5,
   "metadata": {},
   "outputs": [
    {
     "data": {
      "text/plain": [
       "(4573, 9)"
      ]
     },
     "execution_count": 5,
     "metadata": {},
     "output_type": "execute_result"
    }
   ],
   "source": [
    "#Format & Clean DataFrame\n",
    "column_order = [\"Restaurant\",\"Type\",\"Rating\",\"Price\",\"Address\",\"Lat\",\"Lng\",\"url\",\"ID\"]\n",
    "nyc_restaurants_df = nyc_restaurants_df[column_order]\n",
    "nyc_restaurants_df = nyc_restaurants_df.sort_values([\"Type\"], ascending=True)\n",
    "nyc_restaurants_df = nyc_restaurants_df.reset_index(drop=True)\n",
    "nyc_restaurants_df = nyc_restaurants_df.drop_duplicates()\n",
    "nyc_restaurants_df = nyc_restaurants_df.dropna()\n",
    "nyc_restaurants_df.shape\n",
    "#nyc_restaurants_df.head()"
   ]
  },
  {
   "cell_type": "code",
   "execution_count": 6,
   "metadata": {},
   "outputs": [],
   "source": [
    "#Recategorize & Remove Types of Restaurants because we have too many varieties\n",
    "#List the Restaurant Types\n",
    "#nyc_restaurants_df[\"Type\"].value_counts()"
   ]
  },
  {
   "cell_type": "code",
   "execution_count": 7,
   "metadata": {},
   "outputs": [],
   "source": [
    "#Remove some of the Restuarant Types because these are not Restaurants:\n",
    "#a) replace what we do not want with \"Remove\", then\n",
    "nyc_restaurants_df[\"Type\"] = nyc_restaurants_df[\"Type\"].replace({\"Comfort Food\":\"Remove\", \n",
    "                                                           \"Cheese Shops\":\"Remove\",\n",
    "                                                           \"Grocery\":\"Remove\",\n",
    "                                                           \"Food Trucks\":\"Remove\",\n",
    "                                                           \"Seafood Markets\":\"Remove\",\n",
    "                                                           \"Specialty Food\":\"Remove\",\n",
    "                                                           \"Meat Shops\":\"Remove\",\n",
    "                                                           \"Venues & Event Spaces\":\"Remove\", \n",
    "                                                           \"Music Venues\":\"Remove\",\n",
    "                                                           \"Street Vendors\":\"Remove\",\n",
    "                                                           \"Chicken Shop\":\"Remove\",\n",
    "                                                           \"Convenience Stores\":\"Remove\",\n",
    "                                                           \"Health Markets\":\"Remove\",\n",
    "                                                           \"Butcher\":\"Remove\",\n",
    "                                                           \"Fruits & Veggies\":\"Remove\", \n",
    "                                                           \"Public Markets\":\"Remove\",\n",
    "                                                           \"Florists\":\"Remove\",\n",
    "                                                           \"Caterers\":\"Remove\",\n",
    "                                                           \"Poke\":\"Remove\",\n",
    "                                                           \"Colombian\":\"Remove\",\n",
    "                                                           \"Bookstores\":\"Remove\",\n",
    "                                                           \"Brasseries\":\"Remove\", \n",
    "                                                           \"Food Delivery Services\":\"Remove\",\n",
    "                                                           \"Organic Stores\":\"Remove\",\n",
    "                                                           \"Custom Cakes\":\"Remove\",\n",
    "                                                           \"Hotels\":\"Remove\",\n",
    "                                                           \"Antiques\":\"Remove\",\n",
    "                                                           \"Karaoke\":\"Remove\",\n",
    "                                                           \"Tobacco Shops\":\"Remove\", \n",
    "                                                           \"Sardinian\":\"Remove\",\n",
    "                                                           \"Gluten-Free\":\"Remove\",\n",
    "                                                           \"Supper Clubs\":\"Remove\",\n",
    "                                                           \"Imported Food\":\"Remove\",\n",
    "                                                           \"Pasta Shops\":\"Remove\",\n",
    "                                                           \"Performing Arts\":\"Remove\",\n",
    "                                                           \"Pool Halls\":\"Remove\",\n",
    "                                                           \"Patisserie/Cake Shop\":\"Remove\"})\n",
    "#b) remove all the ones labeled \"Remove\"\n",
    "nyc_restaurants_df = nyc_restaurants_df.loc[nyc_restaurants_df[\"Type\"]!=\"Remove\"]\n",
    "#nyc_restaurants_df[\"Type\"].value_counts()"
   ]
  },
  {
   "cell_type": "code",
   "execution_count": 8,
   "metadata": {},
   "outputs": [],
   "source": [
    "#Recategorize Bars,Pubs, & Cocktail Lounges\n",
    "nyc_restaurants_df[\"Type\"] = nyc_restaurants_df[\"Type\"].replace({\"Bars\":\"Bars,Pubs, & Cocktail Lounges\", \n",
    "                                                           \"Cocktail Bars\":\"Bars,Pubs, & Cocktail Lounges\",\n",
    "                                                           \"Pubs\":\"Bars,Pubs, & Cocktail Lounges\",\n",
    "                                                           \"Lounges\":\"Bars,Pubs, & Cocktail Lounges\",\n",
    "                                                           \"Wine Bars\":\"Bars,Pubs, & Cocktail Lounges\",\n",
    "                                                           \"Beer Bar\":\"Bars,Pubs, & Cocktail Lounges\",\n",
    "                                                           \"Sports Bars\":\"Bars,Pubs, & Cocktail Lounges\",\n",
    "                                                           \"Beer Gardens\":\"Bars,Pubs, & Cocktail Lounges\", \n",
    "                                                           \"Dive Bars\":\"Bars,Pubs, & Cocktail Lounges\",\n",
    "                                                           \"Breweries\":\"Bars,Pubs, & Cocktail Lounges\",\n",
    "                                                           \"Jazz & Blues\":\"Bars,Pubs, & Cocktail Lounges\",\n",
    "                                                           \"Beer, Wine & Spirits\":\"Bars,Pubs, & Cocktail Lounges\",\n",
    "                                                           \"Speakeasies\":\"Bars,Pubs, & Cocktail Lounges\",\n",
    "                                                           \"Tiki Bars\":\"Bars,Pubs, & Cocktail Lounges\",\n",
    "                                                           \"Fruits & Veggies\":\"Bars,Pubs, & Cocktail Lounges\", \n",
    "                                                           \"Whiskey Bars\":\"Bars,Pubs, & Cocktail Lounges\",\n",
    "                                                           \"Distilleries\":\"Bars,Pubs, & Cocktail Lounges\",\n",
    "                                                           \"Piano Bars\":\"Bars,Pubs, & Cocktail Lounges\",\n",
    "                                                           \"Brewpubs\":\"Bars,Pubs, & Cocktail Lounges\"})"
   ]
  },
  {
   "cell_type": "code",
   "execution_count": 9,
   "metadata": {},
   "outputs": [],
   "source": [
    "#Recategorize Food Type - Coffee & Tea\n",
    "nyc_restaurants_df[\"Type\"] = nyc_restaurants_df[\"Type\"].replace({\"Bubble Tea\":\"Coffee & Tea\",\n",
    "                                                      \"Tea Rooms\":\"Coffee & Tea\",\n",
    "                                                      \"Coffee Roasteries\":\"Coffee & Tea\"})"
   ]
  },
  {
   "cell_type": "code",
   "execution_count": 10,
   "metadata": {},
   "outputs": [],
   "source": [
    "#Recategorize Food Type - Desserts\n",
    "nyc_restaurants_df[\"Type\"] = nyc_restaurants_df[\"Type\"].replace({\"Chocolatiers & Shops\":\"Desserts\",\n",
    "                                                      \"Candy Stores\":\"Desserts\",\"Cupcakes\":\"Desserts\",\n",
    "                                                      \"Ice Cream & Frozen Yogurt\":\"Ice Cream, Frozen Yogurt, & Gelato\",\n",
    "                                                      \"Gelato\":\"Ice Cream, Frozen Yogurt, & Gelato\"})"
   ]
  },
  {
   "cell_type": "code",
   "execution_count": 11,
   "metadata": {},
   "outputs": [],
   "source": [
    "#Recategorize Food Type - American\n",
    "nyc_restaurants_df[\"Type\"] = nyc_restaurants_df[\"Type\"].replace({\"American (New)\":\"American\", \n",
    "                                                      \"American (Traditional)\":\"American\",\n",
    "                                                      \"Burgers\":\"American\",\"Hot Dogs\":\"American\",\n",
    "                                                      \"Diners\":\"American\",\"Chicken Wings\":\"American\"})"
   ]
  },
  {
   "cell_type": "code",
   "execution_count": 12,
   "metadata": {},
   "outputs": [],
   "source": [
    "#Recategorize Food Type - Asian\n",
    "nyc_restaurants_df[\"Type\"] = nyc_restaurants_df[\"Type\"].replace({ \"Dim Sum\":\"Chinese\",\n",
    "                                                      \"Szechuan\":\"Chinese\",\"Cantonese\":\"Chinese\",\n",
    "                                                      \"Japanese\":\"Japanese/Sushi\",\"Izakaya\":\"Japanese/Sushi\",\n",
    "                                                      \"Teppanyaki\":\"Japanese/Sushi\",\"Japanese Curry\":\"Japanese/Sushi\",\n",
    "                                                      \"Sushi Bars\":\"Japanese/Sushi\",\"Hot Pot\":\"Korean\",\n",
    "                                                      \"Asian Fusion\":\"Asian Other\",\"Ramen\":\"Asian Other\",\n",
    "                                                      \"Shanghainese\":\"Asian Other\", \"Vietnamese\":\"Asian Other\",\n",
    "                                                      \"Noodles\":\"Asian Other\",\"Taiwanese\":\"Asian Other\",\n",
    "                                                      \"Malaysian\":\"Asian Other\",\"Laotian\":\"Asian Other\",\n",
    "                                                      \"Hong Kong Style Cafe\":\"Asian Other\",\n",
    "                                                      \"Indonesian\":\"Asian Other\",\"Pan Asian\":\"Asian Other\"})"
   ]
  },
  {
   "cell_type": "code",
   "execution_count": 13,
   "metadata": {},
   "outputs": [],
   "source": [
    "#Recategorize Food Type - European\n",
    "nyc_restaurants_df[\"Type\"] = nyc_restaurants_df[\"Type\"].replace({\"Creperies\":\"French\",\"Macarons\":\"French\",\n",
    "                                                      \"German\":\"German/Austrian\",\"Austrian\":\"German/Austrian\",\n",
    "                                                      \"Irish Pub\":\"Irish\",\"Tuscan\":\"Italian\",\n",
    "                                                      \"Tapas Bars\":\"Spanish\",\"Tapas/Small Plates\":\"Spanish\",\n",
    "                                                      \"Modern European\":\"European Other\",\n",
    "                                                      \"British\":\"European Other\",\"Belgian\":\"European Other\",\n",
    "                                                      \"Scandinavian\":\"European Other\",\"Fish & Chips\":\"European Other\"})"
   ]
  },
  {
   "cell_type": "code",
   "execution_count": 14,
   "metadata": {},
   "outputs": [],
   "source": [
    "#Recategorize Food Type - Delis, Sandwiches, & Wraps\n",
    "nyc_restaurants_df[\"Type\"] = nyc_restaurants_df[\"Type\"].replace({\"Delis\":\"Delis, Sandwiches, & Wraps\",\n",
    "                                                      \"Sandwiches\":\"Delis, Sandwiches, & Wraps\",\n",
    "                                                      \"Wraps\":\"Delis, Sandwiches, & Wraps\"})"
   ]
  },
  {
   "cell_type": "code",
   "execution_count": 15,
   "metadata": {},
   "outputs": [],
   "source": [
    "#Recategorize Food Type - Mexican\n",
    "nyc_restaurants_df[\"Type\"] = nyc_restaurants_df[\"Type\"].replace({\"Tacos\":\"Mexican\",\"Tex-Mex\":\"Mexican\",\n",
    "                                                                 \"New Mexican Cuisine\":\"Mexican\"})"
   ]
  },
  {
   "cell_type": "code",
   "execution_count": 16,
   "metadata": {},
   "outputs": [],
   "source": [
    "#Recategorize Food Type - Latin American\n",
    "nyc_restaurants_df[\"Type\"] = nyc_restaurants_df[\"Type\"].replace({\"Cuban\":\"Latin American\",\"Brazilian\":\"Latin American\",\n",
    "                                                      \"Puerto Rican\":\"Latin American\",\"Argentine\":\"Latin American\",\n",
    "                                                      \"Peruvian\":\"Latin American\",\"Venezuelan\":\"Latin American\",\n",
    "                                                      \"Empanadas\":\"Latin American\",\"Portuguese\":\"Latin American\",\n",
    "                                                      \"Salvadoran\":\"Latin American\"})"
   ]
  },
  {
   "cell_type": "code",
   "execution_count": 17,
   "metadata": {},
   "outputs": [],
   "source": [
    "#Recategorize Food Type - Middle Eastern & Mediterranean\n",
    "nyc_restaurants_df[\"Type\"] = nyc_restaurants_df[\"Type\"].replace({\"Turkish\":\"Middle Eastern\",\"Falafel\":\"Middle Eastern\",\n",
    "                                                      \"Halal\":\"Middle Eastern\",\"Persian/Iranian\":\"Middle Eastern\",\n",
    "                                                      \"Lebanese\":\"Middle Eastern\",\"Georgian\":\"Middle Eastern\",\n",
    "                                                      \"Pakistani\":\"Middle Eastern\",\"Afghan\":\"Middle Eastern\",\n",
    "                                                      \"Greek\":\"Mediterranean\", \"Kebab\":\"Mediterranean\"})"
   ]
  },
  {
   "cell_type": "code",
   "execution_count": 18,
   "metadata": {},
   "outputs": [],
   "source": [
    "#Recategorize Food Type - Variety\n",
    "nyc_restaurants_df[\"Type\"] = nyc_restaurants_df[\"Type\"].replace({\"Barbeque\":\"BBQ\", \"Smokehouse\":\"BBQ\",\n",
    "                                                                 \"Haitian\":\"Carribean\",\"Dominican\":\"Carribean\",\n",
    "                                                                 \"Fast Food\":\"Food Stands\",\"Food Court\":\"Food Stands\",\n",
    "                                                                 \"Bagels\":\"Pretzels & Bagels\", \"Pretzels\":\"Pretzels & Bagels\",\n",
    "                                                                 \"Salad\":\"Soup & Salad\", \"Soup\":\"Soup & Salad\",\n",
    "                                                                 \"Juice Bars & Smoothies\":\"Smoothies & Acai Bowls\", \"Acai Bowls\":\"Smoothies & Acai Bowls\",\n",
    "                                                                 \"Vegan\":\"Vegan & Vegetarian\", \"Vegetarian\":\"Vegan & Vegetarian\"})\n",
    "            "
   ]
  },
  {
   "cell_type": "code",
   "execution_count": 19,
   "metadata": {},
   "outputs": [],
   "source": [
    "#Recategorize Food Type - Other\n",
    "nyc_restaurants_df[\"Type\"] = nyc_restaurants_df[\"Type\"].replace({\"Russian\":\"Other\",\"Filipino\":\"Other\",\n",
    "                                                      \"Australian\":\"Other\",\"African\":\"Other\",\n",
    "                                                      \"Himalayan/Nepalese\":\"Other\",\"Ukrainian\":\"Other\",\n",
    "                                                      \"Ethiopian\":\"Other\",\"Sri Lankan\":\"Other\",\n",
    "                                                      \"Hawaiian\":\"Other\",\"Fondue\":\"Other\",\"Moroccan\":\"Other\",\n",
    "                                                      \"Uzbek\":\"Other\",\"South African\":\"Other\",\n",
    "                                                      \"Bangladeshi\":\"Other\",\"Czech\":\"Other\"})"
   ]
  },
  {
   "cell_type": "code",
   "execution_count": 20,
   "metadata": {},
   "outputs": [
    {
     "data": {
      "text/plain": [
       "(4410, 9)"
      ]
     },
     "execution_count": 20,
     "metadata": {},
     "output_type": "execute_result"
    }
   ],
   "source": [
    "#Sort the DataFrame\n",
    "nyc_restaurants_df = nyc_restaurants_df.sort_values([\"Type\"], ascending=True)\n",
    "nyc_restaurants_df.shape\n",
    "#nyc_restaurants_df.tail()"
   ]
  },
  {
   "cell_type": "code",
   "execution_count": 21,
   "metadata": {},
   "outputs": [],
   "source": [
    "# Save the DataFrame to a csv file\n",
    "nyc_restaurants_df.to_csv('Resources/NYC_Restaurants_Final.csv', index=False)"
   ]
  }
 ],
 "metadata": {
  "kernelspec": {
   "display_name": "Python 3",
   "language": "python",
   "name": "python3"
  },
  "language_info": {
   "codemirror_mode": {
    "name": "ipython",
    "version": 3
   },
   "file_extension": ".py",
   "mimetype": "text/x-python",
   "name": "python",
   "nbconvert_exporter": "python",
   "pygments_lexer": "ipython3",
   "version": "3.6.5"
  }
 },
 "nbformat": 4,
 "nbformat_minor": 2
}
