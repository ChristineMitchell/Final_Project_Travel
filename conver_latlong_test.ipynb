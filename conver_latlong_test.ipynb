{
 "cells": [
  {
   "cell_type": "code",
   "execution_count": 1,
   "id": "00661582",
   "metadata": {},
   "outputs": [],
   "source": [
    "import pandas as pd\n",
    "import json\n",
    "import re\n",
    "import pyproj\n",
    "from pyproj import Proj, transform"
   ]
  },
  {
   "cell_type": "code",
   "execution_count": 2,
   "id": "aefc0388",
   "metadata": {},
   "outputs": [
    {
     "name": "stdout",
     "output_type": "stream",
     "text": [
      "Requirement already satisfied: pyproj in c:\\users\\laura\\anaconda3\\envs\\mlenv\\lib\\site-packages (3.2.1)\n",
      "Requirement already satisfied: certifi in c:\\users\\laura\\anaconda3\\envs\\mlenv\\lib\\site-packages (from pyproj) (2021.5.30)\n",
      "Note: you may need to restart the kernel to use updated packages.\n"
     ]
    }
   ],
   "source": [
    "pip install pyproj"
   ]
  },
  {
   "cell_type": "code",
   "execution_count": 3,
   "id": "2cf1abe9",
   "metadata": {},
   "outputs": [],
   "source": [
    "park_monuments_df = pd.read_csv(\"Resources/NYC_Parks_Monuments.csv\")"
   ]
  },
  {
   "cell_type": "code",
   "execution_count": 4,
   "id": "7db6c993",
   "metadata": {},
   "outputs": [
    {
     "data": {
      "text/html": [
       "<div>\n",
       "<style scoped>\n",
       "    .dataframe tbody tr th:only-of-type {\n",
       "        vertical-align: middle;\n",
       "    }\n",
       "\n",
       "    .dataframe tbody tr th {\n",
       "        vertical-align: top;\n",
       "    }\n",
       "\n",
       "    .dataframe thead th {\n",
       "        text-align: right;\n",
       "    }\n",
       "</style>\n",
       "<table border=\"1\" class=\"dataframe\">\n",
       "  <thead>\n",
       "    <tr style=\"text-align: right;\">\n",
       "      <th></th>\n",
       "      <th>name</th>\n",
       "      <th>fileorder</th>\n",
       "      <th>number</th>\n",
       "      <th>parkprop</th>\n",
       "      <th>borough</th>\n",
       "      <th>parkname</th>\n",
       "      <th>parknumber</th>\n",
       "      <th>commboard</th>\n",
       "      <th>council</th>\n",
       "      <th>Location</th>\n",
       "      <th>...</th>\n",
       "      <th>Name2</th>\n",
       "      <th>Name3</th>\n",
       "      <th>MaintainedByParks</th>\n",
       "      <th>Installation</th>\n",
       "      <th>Rededication</th>\n",
       "      <th>Cost</th>\n",
       "      <th>Categories</th>\n",
       "      <th>inscribed</th>\n",
       "      <th>X</th>\n",
       "      <th>Y</th>\n",
       "    </tr>\n",
       "  </thead>\n",
       "  <tbody>\n",
       "    <tr>\n",
       "      <th>4</th>\n",
       "      <td>Giuseppe Garibaldi</td>\n",
       "      <td>Garibaldi, Giuseppe</td>\n",
       "      <td>571</td>\n",
       "      <td>Y</td>\n",
       "      <td>Manhattan</td>\n",
       "      <td>Washington Square Park</td>\n",
       "      <td>M098</td>\n",
       "      <td>2.0</td>\n",
       "      <td>1.0</td>\n",
       "      <td>NaN</td>\n",
       "      <td>...</td>\n",
       "      <td>NaN</td>\n",
       "      <td>NaN</td>\n",
       "      <td>Y</td>\n",
       "      <td>NaN</td>\n",
       "      <td>NaN</td>\n",
       "      <td>NaN</td>\n",
       "      <td>Politcal Figure</td>\n",
       "      <td>NaN</td>\n",
       "      <td>985120.016293</td>\n",
       "      <td>205443.463835</td>\n",
       "    </tr>\n",
       "    <tr>\n",
       "      <th>24</th>\n",
       "      <td>Dr. James Marion Sims</td>\n",
       "      <td>Sims, James Marion</td>\n",
       "      <td>1448</td>\n",
       "      <td>N</td>\n",
       "      <td>Manhattan</td>\n",
       "      <td>Central Park</td>\n",
       "      <td>NaN</td>\n",
       "      <td>7.0</td>\n",
       "      <td>8.0</td>\n",
       "      <td>Green-Wood Cemetery, Dale and Cypress Avenues</td>\n",
       "      <td>...</td>\n",
       "      <td>NaN</td>\n",
       "      <td>NaN</td>\n",
       "      <td>N</td>\n",
       "      <td>NaN</td>\n",
       "      <td>NaN</td>\n",
       "      <td>$10,000</td>\n",
       "      <td>Physician</td>\n",
       "      <td>NaN</td>\n",
       "      <td>986537.568248</td>\n",
       "      <td>175195.703464</td>\n",
       "    </tr>\n",
       "    <tr>\n",
       "      <th>25</th>\n",
       "      <td>Admiral George Dewey Memorial</td>\n",
       "      <td>Dewey, George</td>\n",
       "      <td>1783</td>\n",
       "      <td>Y</td>\n",
       "      <td>Manhattan</td>\n",
       "      <td>Battery Park</td>\n",
       "      <td>M005</td>\n",
       "      <td>1.0</td>\n",
       "      <td>1.0</td>\n",
       "      <td>Upper Promenade, southwest of Castle Clinton</td>\n",
       "      <td>...</td>\n",
       "      <td>NaN</td>\n",
       "      <td>NaN</td>\n",
       "      <td>Y</td>\n",
       "      <td>NaN</td>\n",
       "      <td>NaN</td>\n",
       "      <td>$7,000</td>\n",
       "      <td>Portrait, Sculpture, Soldier, War Memorial, Sp...</td>\n",
       "      <td>NaN</td>\n",
       "      <td>979539.761705</td>\n",
       "      <td>195380.204434</td>\n",
       "    </tr>\n",
       "    <tr>\n",
       "      <th>53</th>\n",
       "      <td>Coast Guard Memorial</td>\n",
       "      <td>Coast Guard Memorial</td>\n",
       "      <td>277</td>\n",
       "      <td>Y</td>\n",
       "      <td>Manhattan</td>\n",
       "      <td>Battery Park</td>\n",
       "      <td>M005</td>\n",
       "      <td>1.0</td>\n",
       "      <td>1.0</td>\n",
       "      <td>Not presently accessible; under construction.</td>\n",
       "      <td>...</td>\n",
       "      <td>NaN</td>\n",
       "      <td>NaN</td>\n",
       "      <td>Y</td>\n",
       "      <td>NaN</td>\n",
       "      <td>NaN</td>\n",
       "      <td>NaN</td>\n",
       "      <td>Sculpture, Soldier, War Memorial, World War II</td>\n",
       "      <td>NaN</td>\n",
       "      <td>980384.223599</td>\n",
       "      <td>194763.973383</td>\n",
       "    </tr>\n",
       "    <tr>\n",
       "      <th>54</th>\n",
       "      <td>Giovanni da Verrazzano</td>\n",
       "      <td>Verrazano, Giovanni da</td>\n",
       "      <td>1628</td>\n",
       "      <td>Y</td>\n",
       "      <td>Manhattan</td>\n",
       "      <td>Battery Park</td>\n",
       "      <td>M005</td>\n",
       "      <td>1.0</td>\n",
       "      <td>1.0</td>\n",
       "      <td>North entrance pathway</td>\n",
       "      <td>...</td>\n",
       "      <td>NaN</td>\n",
       "      <td>NaN</td>\n",
       "      <td>Y</td>\n",
       "      <td>NaN</td>\n",
       "      <td>NaN</td>\n",
       "      <td>$5,000 (materials only);</td>\n",
       "      <td>Explorer</td>\n",
       "      <td>NaN</td>\n",
       "      <td>979707.717406</td>\n",
       "      <td>195900.034759</td>\n",
       "    </tr>\n",
       "  </tbody>\n",
       "</table>\n",
       "<p>5 rows × 34 columns</p>\n",
       "</div>"
      ],
      "text/plain": [
       "                             name               fileorder  number parkprop  \\\n",
       "4              Giuseppe Garibaldi     Garibaldi, Giuseppe     571        Y   \n",
       "24          Dr. James Marion Sims      Sims, James Marion    1448        N   \n",
       "25  Admiral George Dewey Memorial           Dewey, George    1783        Y   \n",
       "53           Coast Guard Memorial    Coast Guard Memorial     277        Y   \n",
       "54         Giovanni da Verrazzano  Verrazano, Giovanni da    1628        Y   \n",
       "\n",
       "      borough                parkname parknumber  commboard  council  \\\n",
       "4   Manhattan  Washington Square Park       M098        2.0      1.0   \n",
       "24  Manhattan            Central Park        NaN        7.0      8.0   \n",
       "25  Manhattan            Battery Park       M005        1.0      1.0   \n",
       "53  Manhattan            Battery Park       M005        1.0      1.0   \n",
       "54  Manhattan            Battery Park       M005        1.0      1.0   \n",
       "\n",
       "                                         Location  ... Name2 Name3  \\\n",
       "4                                             NaN  ...   NaN   NaN   \n",
       "24  Green-Wood Cemetery, Dale and Cypress Avenues  ...   NaN   NaN   \n",
       "25   Upper Promenade, southwest of Castle Clinton  ...   NaN   NaN   \n",
       "53  Not presently accessible; under construction.  ...   NaN   NaN   \n",
       "54                         North entrance pathway  ...   NaN   NaN   \n",
       "\n",
       "   MaintainedByParks Installation Rededication                      Cost  \\\n",
       "4                  Y          NaN          NaN                       NaN   \n",
       "24                 N          NaN          NaN                   $10,000   \n",
       "25                 Y          NaN          NaN                    $7,000   \n",
       "53                 Y          NaN          NaN                       NaN   \n",
       "54                 Y          NaN          NaN  $5,000 (materials only);   \n",
       "\n",
       "                                           Categories inscribed  \\\n",
       "4                                     Politcal Figure       NaN   \n",
       "24                                          Physician       NaN   \n",
       "25  Portrait, Sculpture, Soldier, War Memorial, Sp...       NaN   \n",
       "53     Sculpture, Soldier, War Memorial, World War II       NaN   \n",
       "54                                           Explorer       NaN   \n",
       "\n",
       "                X              Y  \n",
       "4   985120.016293  205443.463835  \n",
       "24  986537.568248  175195.703464  \n",
       "25  979539.761705  195380.204434  \n",
       "53  980384.223599  194763.973383  \n",
       "54  979707.717406  195900.034759  \n",
       "\n",
       "[5 rows x 34 columns]"
      ]
     },
     "execution_count": 4,
     "metadata": {},
     "output_type": "execute_result"
    }
   ],
   "source": [
    "monuments_filtered = park_monuments_df[park_monuments_df['X'].notnull()]\n",
    "monuments_filtered = monuments_filtered[monuments_filtered['parkname'].notnull()]\n",
    "monuments_filtered.head()"
   ]
  },
  {
   "cell_type": "code",
   "execution_count": 5,
   "id": "877d04e6",
   "metadata": {},
   "outputs": [],
   "source": [
    "def xy_to_lonlat(x, y):\n",
    "    proj_latlon = pyproj.Proj(proj='latlong',datum='WGS84')\n",
    "    proj_xy = pyproj.Proj(proj=\"latlong\", datum='NAD83')\n",
    "    lonlat = pyproj.transform(proj_xy, proj_latlon, x, y)\n",
    "    return lonlat[0], lonlat[1]"
   ]
  },
  {
   "cell_type": "code",
   "execution_count": 6,
   "id": "c66e9596",
   "metadata": {},
   "outputs": [
    {
     "name": "stderr",
     "output_type": "stream",
     "text": [
      "C:\\Users\\Laura\\anaconda3\\envs\\mlenv\\lib\\site-packages\\ipykernel_launcher.py:4: DeprecationWarning: This function is deprecated. See: https://pyproj4.github.io/pyproj/stable/gotchas.html#upgrading-to-pyproj-2-from-pyproj-1\n",
      "  after removing the cwd from sys.path.\n"
     ]
    },
    {
     "data": {
      "text/plain": [
       "(985120.016293, 205443.463835)"
      ]
     },
     "execution_count": 6,
     "metadata": {},
     "output_type": "execute_result"
    }
   ],
   "source": [
    "xy_to_lonlat(985120.016293, 205443.463835)"
   ]
  },
  {
   "cell_type": "code",
   "execution_count": 7,
   "id": "20e24c84",
   "metadata": {},
   "outputs": [
    {
     "name": "stdout",
     "output_type": "stream",
     "text": [
      "(-73.99686088849975, 40.73057144596565)\n"
     ]
    },
    {
     "name": "stderr",
     "output_type": "stream",
     "text": [
      "C:\\Users\\Laura\\anaconda3\\envs\\mlenv\\lib\\site-packages\\pyproj\\crs\\crs.py:131: FutureWarning: '+init=<authority>:<code>' syntax is deprecated. '<authority>:<code>' is the preferred initialization method. When making the change, be mindful of axis order changes: https://pyproj4.github.io/pyproj/stable/gotchas.html#axis-order-changes-in-proj-6\n",
      "  in_crs_string = _prepare_from_proj_string(in_crs_string)\n",
      "C:\\Users\\Laura\\anaconda3\\envs\\mlenv\\lib\\site-packages\\pyproj\\crs\\crs.py:131: FutureWarning: '+init=<authority>:<code>' syntax is deprecated. '<authority>:<code>' is the preferred initialization method. When making the change, be mindful of axis order changes: https://pyproj4.github.io/pyproj/stable/gotchas.html#axis-order-changes-in-proj-6\n",
      "  in_crs_string = _prepare_from_proj_string(in_crs_string)\n",
      "C:\\Users\\Laura\\anaconda3\\envs\\mlenv\\lib\\site-packages\\ipykernel_launcher.py:5: DeprecationWarning: This function is deprecated. See: https://pyproj4.github.io/pyproj/stable/gotchas.html#upgrading-to-pyproj-2-from-pyproj-1\n",
      "  \"\"\"\n"
     ]
    }
   ],
   "source": [
    "inProj  = pyproj.Proj(\"+init=EPSG:2263\",preserve_units=True)\n",
    "outProj = pyproj.Proj(\"+init=EPSG:4326\") # WGS84 in degrees and not EPSG:3857 in meters)\n",
    "# swap x,y as mkennedy says\n",
    "y1,x1 =  (205443.463835, 985120.016293)\n",
    "print(transform(inProj,outProj,x1,y1))"
   ]
  },
  {
   "cell_type": "code",
   "execution_count": 8,
   "id": "5e24c084",
   "metadata": {},
   "outputs": [
    {
     "name": "stdout",
     "output_type": "stream",
     "text": [
      "-76.90219167353177 42.834398497934835\n"
     ]
    }
   ],
   "source": [
    "x,y = inProj(205443.463835, 985120.016293, inverse=True)\n",
    "print(x, y)"
   ]
  },
  {
   "cell_type": "code",
   "execution_count": 9,
   "id": "3ac8c252",
   "metadata": {},
   "outputs": [
    {
     "data": {
      "text/plain": [
       "(-127.4898199308272, 0.000309915815276561)"
      ]
     },
     "execution_count": 9,
     "metadata": {},
     "output_type": "execute_result"
    }
   ],
   "source": [
    "p = Proj(proj='utm',zone=10,ellps='WGS84', preserve_units=False)\n",
    "x,y = p(-120.108, 34.36116666, inverse=True)\n",
    "x, y"
   ]
  },
  {
   "cell_type": "code",
   "execution_count": 10,
   "id": "0e310c0c",
   "metadata": {},
   "outputs": [
    {
     "name": "stderr",
     "output_type": "stream",
     "text": [
      "C:\\Users\\Laura\\anaconda3\\envs\\mlenv\\lib\\site-packages\\ipykernel_launcher.py:3: DeprecationWarning: This function is deprecated. See: https://pyproj4.github.io/pyproj/stable/gotchas.html#upgrading-to-pyproj-2-from-pyproj-1\n",
      "  This is separate from the ipykernel package so we can avoid doing imports until\n"
     ]
    }
   ],
   "source": [
    "x = monuments_filtered[\"X\"]\n",
    "y = monuments_filtered[\"Y\"]\n",
    "long,lat = transform(inProj,outProj,x,y)"
   ]
  },
  {
   "cell_type": "code",
   "execution_count": 11,
   "id": "775e2882",
   "metadata": {},
   "outputs": [],
   "source": [
    "monuments_filtered[\"Longitude\"] = long"
   ]
  },
  {
   "cell_type": "code",
   "execution_count": 12,
   "id": "e0cde144",
   "metadata": {},
   "outputs": [],
   "source": [
    "monuments_filtered[\"Lattitude\"] = lat"
   ]
  },
  {
   "cell_type": "code",
   "execution_count": 13,
   "id": "afc113e0",
   "metadata": {},
   "outputs": [
    {
     "data": {
      "text/html": [
       "<div>\n",
       "<style scoped>\n",
       "    .dataframe tbody tr th:only-of-type {\n",
       "        vertical-align: middle;\n",
       "    }\n",
       "\n",
       "    .dataframe tbody tr th {\n",
       "        vertical-align: top;\n",
       "    }\n",
       "\n",
       "    .dataframe thead th {\n",
       "        text-align: right;\n",
       "    }\n",
       "</style>\n",
       "<table border=\"1\" class=\"dataframe\">\n",
       "  <thead>\n",
       "    <tr style=\"text-align: right;\">\n",
       "      <th></th>\n",
       "      <th>name</th>\n",
       "      <th>fileorder</th>\n",
       "      <th>number</th>\n",
       "      <th>parkprop</th>\n",
       "      <th>borough</th>\n",
       "      <th>parkname</th>\n",
       "      <th>parknumber</th>\n",
       "      <th>commboard</th>\n",
       "      <th>council</th>\n",
       "      <th>Location</th>\n",
       "      <th>...</th>\n",
       "      <th>MaintainedByParks</th>\n",
       "      <th>Installation</th>\n",
       "      <th>Rededication</th>\n",
       "      <th>Cost</th>\n",
       "      <th>Categories</th>\n",
       "      <th>inscribed</th>\n",
       "      <th>X</th>\n",
       "      <th>Y</th>\n",
       "      <th>Longitude</th>\n",
       "      <th>Lattitude</th>\n",
       "    </tr>\n",
       "  </thead>\n",
       "  <tbody>\n",
       "    <tr>\n",
       "      <th>4</th>\n",
       "      <td>Giuseppe Garibaldi</td>\n",
       "      <td>Garibaldi, Giuseppe</td>\n",
       "      <td>571</td>\n",
       "      <td>Y</td>\n",
       "      <td>Manhattan</td>\n",
       "      <td>Washington Square Park</td>\n",
       "      <td>M098</td>\n",
       "      <td>2.0</td>\n",
       "      <td>1.0</td>\n",
       "      <td>NaN</td>\n",
       "      <td>...</td>\n",
       "      <td>Y</td>\n",
       "      <td>NaN</td>\n",
       "      <td>NaN</td>\n",
       "      <td>NaN</td>\n",
       "      <td>Politcal Figure</td>\n",
       "      <td>NaN</td>\n",
       "      <td>985120.016293</td>\n",
       "      <td>205443.463835</td>\n",
       "      <td>-73.996861</td>\n",
       "      <td>40.730571</td>\n",
       "    </tr>\n",
       "    <tr>\n",
       "      <th>24</th>\n",
       "      <td>Dr. James Marion Sims</td>\n",
       "      <td>Sims, James Marion</td>\n",
       "      <td>1448</td>\n",
       "      <td>N</td>\n",
       "      <td>Manhattan</td>\n",
       "      <td>Central Park</td>\n",
       "      <td>NaN</td>\n",
       "      <td>7.0</td>\n",
       "      <td>8.0</td>\n",
       "      <td>Green-Wood Cemetery, Dale and Cypress Avenues</td>\n",
       "      <td>...</td>\n",
       "      <td>N</td>\n",
       "      <td>NaN</td>\n",
       "      <td>NaN</td>\n",
       "      <td>$10,000</td>\n",
       "      <td>Physician</td>\n",
       "      <td>NaN</td>\n",
       "      <td>986537.568248</td>\n",
       "      <td>175195.703464</td>\n",
       "      <td>-73.991756</td>\n",
       "      <td>40.647548</td>\n",
       "    </tr>\n",
       "    <tr>\n",
       "      <th>25</th>\n",
       "      <td>Admiral George Dewey Memorial</td>\n",
       "      <td>Dewey, George</td>\n",
       "      <td>1783</td>\n",
       "      <td>Y</td>\n",
       "      <td>Manhattan</td>\n",
       "      <td>Battery Park</td>\n",
       "      <td>M005</td>\n",
       "      <td>1.0</td>\n",
       "      <td>1.0</td>\n",
       "      <td>Upper Promenade, southwest of Castle Clinton</td>\n",
       "      <td>...</td>\n",
       "      <td>Y</td>\n",
       "      <td>NaN</td>\n",
       "      <td>NaN</td>\n",
       "      <td>$7,000</td>\n",
       "      <td>Portrait, Sculpture, Soldier, War Memorial, Sp...</td>\n",
       "      <td>NaN</td>\n",
       "      <td>979539.761705</td>\n",
       "      <td>195380.204434</td>\n",
       "      <td>-74.016988</td>\n",
       "      <td>40.702949</td>\n",
       "    </tr>\n",
       "    <tr>\n",
       "      <th>53</th>\n",
       "      <td>Coast Guard Memorial</td>\n",
       "      <td>Coast Guard Memorial</td>\n",
       "      <td>277</td>\n",
       "      <td>Y</td>\n",
       "      <td>Manhattan</td>\n",
       "      <td>Battery Park</td>\n",
       "      <td>M005</td>\n",
       "      <td>1.0</td>\n",
       "      <td>1.0</td>\n",
       "      <td>Not presently accessible; under construction.</td>\n",
       "      <td>...</td>\n",
       "      <td>Y</td>\n",
       "      <td>NaN</td>\n",
       "      <td>NaN</td>\n",
       "      <td>NaN</td>\n",
       "      <td>Sculpture, Soldier, War Memorial, World War II</td>\n",
       "      <td>NaN</td>\n",
       "      <td>980384.223599</td>\n",
       "      <td>194763.973383</td>\n",
       "      <td>-74.013942</td>\n",
       "      <td>40.701258</td>\n",
       "    </tr>\n",
       "    <tr>\n",
       "      <th>54</th>\n",
       "      <td>Giovanni da Verrazzano</td>\n",
       "      <td>Verrazano, Giovanni da</td>\n",
       "      <td>1628</td>\n",
       "      <td>Y</td>\n",
       "      <td>Manhattan</td>\n",
       "      <td>Battery Park</td>\n",
       "      <td>M005</td>\n",
       "      <td>1.0</td>\n",
       "      <td>1.0</td>\n",
       "      <td>North entrance pathway</td>\n",
       "      <td>...</td>\n",
       "      <td>Y</td>\n",
       "      <td>NaN</td>\n",
       "      <td>NaN</td>\n",
       "      <td>$5,000 (materials only);</td>\n",
       "      <td>Explorer</td>\n",
       "      <td>NaN</td>\n",
       "      <td>979707.717406</td>\n",
       "      <td>195900.034759</td>\n",
       "      <td>-74.016383</td>\n",
       "      <td>40.704376</td>\n",
       "    </tr>\n",
       "  </tbody>\n",
       "</table>\n",
       "<p>5 rows × 36 columns</p>\n",
       "</div>"
      ],
      "text/plain": [
       "                             name               fileorder  number parkprop  \\\n",
       "4              Giuseppe Garibaldi     Garibaldi, Giuseppe     571        Y   \n",
       "24          Dr. James Marion Sims      Sims, James Marion    1448        N   \n",
       "25  Admiral George Dewey Memorial           Dewey, George    1783        Y   \n",
       "53           Coast Guard Memorial    Coast Guard Memorial     277        Y   \n",
       "54         Giovanni da Verrazzano  Verrazano, Giovanni da    1628        Y   \n",
       "\n",
       "      borough                parkname parknumber  commboard  council  \\\n",
       "4   Manhattan  Washington Square Park       M098        2.0      1.0   \n",
       "24  Manhattan            Central Park        NaN        7.0      8.0   \n",
       "25  Manhattan            Battery Park       M005        1.0      1.0   \n",
       "53  Manhattan            Battery Park       M005        1.0      1.0   \n",
       "54  Manhattan            Battery Park       M005        1.0      1.0   \n",
       "\n",
       "                                         Location  ... MaintainedByParks  \\\n",
       "4                                             NaN  ...                 Y   \n",
       "24  Green-Wood Cemetery, Dale and Cypress Avenues  ...                 N   \n",
       "25   Upper Promenade, southwest of Castle Clinton  ...                 Y   \n",
       "53  Not presently accessible; under construction.  ...                 Y   \n",
       "54                         North entrance pathway  ...                 Y   \n",
       "\n",
       "   Installation Rededication                      Cost  \\\n",
       "4           NaN          NaN                       NaN   \n",
       "24          NaN          NaN                   $10,000   \n",
       "25          NaN          NaN                    $7,000   \n",
       "53          NaN          NaN                       NaN   \n",
       "54          NaN          NaN  $5,000 (materials only);   \n",
       "\n",
       "                                           Categories inscribed  \\\n",
       "4                                     Politcal Figure       NaN   \n",
       "24                                          Physician       NaN   \n",
       "25  Portrait, Sculpture, Soldier, War Memorial, Sp...       NaN   \n",
       "53     Sculpture, Soldier, War Memorial, World War II       NaN   \n",
       "54                                           Explorer       NaN   \n",
       "\n",
       "                X              Y  Longitude  Lattitude  \n",
       "4   985120.016293  205443.463835 -73.996861  40.730571  \n",
       "24  986537.568248  175195.703464 -73.991756  40.647548  \n",
       "25  979539.761705  195380.204434 -74.016988  40.702949  \n",
       "53  980384.223599  194763.973383 -74.013942  40.701258  \n",
       "54  979707.717406  195900.034759 -74.016383  40.704376  \n",
       "\n",
       "[5 rows x 36 columns]"
      ]
     },
     "execution_count": 13,
     "metadata": {},
     "output_type": "execute_result"
    }
   ],
   "source": [
    "monuments_filtered.head()"
   ]
  },
  {
   "cell_type": "code",
   "execution_count": 14,
   "id": "3cacf7e7",
   "metadata": {},
   "outputs": [
    {
     "data": {
      "text/plain": [
       "name                 780\n",
       "fileorder            502\n",
       "number               780\n",
       "parkprop             780\n",
       "borough              780\n",
       "parkname             780\n",
       "parknumber           779\n",
       "commboard            777\n",
       "council              778\n",
       "Location             733\n",
       "extant               780\n",
       "dedicated            708\n",
       "cast                 429\n",
       "descrip              777\n",
       "dimen                636\n",
       "sponsor              140\n",
       "materials            761\n",
       "foundry              181\n",
       "fabricator            99\n",
       "sculptor             384\n",
       "architect            236\n",
       "donor                564\n",
       "maintain              16\n",
       "contractor            21\n",
       "Name2                 72\n",
       "Name3                  0\n",
       "MaintainedByParks    644\n",
       "Installation           8\n",
       "Rededication          16\n",
       "Cost                 150\n",
       "Categories           526\n",
       "inscribed              0\n",
       "X                    780\n",
       "Y                    780\n",
       "Longitude            780\n",
       "Lattitude            780\n",
       "dtype: int64"
      ]
     },
     "execution_count": 14,
     "metadata": {},
     "output_type": "execute_result"
    }
   ],
   "source": [
    "monuments_filtered.count()"
   ]
  },
  {
   "cell_type": "code",
   "execution_count": 15,
   "id": "a0507bc7",
   "metadata": {},
   "outputs": [],
   "source": [
    "ny_all = pd.read_csv(\"Resources/NewYorkPlus.csv\")"
   ]
  },
  {
   "cell_type": "code",
   "execution_count": 16,
   "id": "845e6d47",
   "metadata": {},
   "outputs": [
    {
     "data": {
      "text/html": [
       "<div>\n",
       "<style scoped>\n",
       "    .dataframe tbody tr th:only-of-type {\n",
       "        vertical-align: middle;\n",
       "    }\n",
       "\n",
       "    .dataframe tbody tr th {\n",
       "        vertical-align: top;\n",
       "    }\n",
       "\n",
       "    .dataframe thead th {\n",
       "        text-align: right;\n",
       "    }\n",
       "</style>\n",
       "<table border=\"1\" class=\"dataframe\">\n",
       "  <thead>\n",
       "    <tr style=\"text-align: right;\">\n",
       "      <th></th>\n",
       "      <th>Unnamed: 0</th>\n",
       "      <th>Names</th>\n",
       "      <th>Geometry</th>\n",
       "      <th>Address</th>\n",
       "      <th>Lattitude</th>\n",
       "      <th>Longitude</th>\n",
       "      <th>Category</th>\n",
       "      <th>Details</th>\n",
       "    </tr>\n",
       "  </thead>\n",
       "  <tbody>\n",
       "    <tr>\n",
       "      <th>0</th>\n",
       "      <td>0</td>\n",
       "      <td>O'reilly William &amp; Co Ltd</td>\n",
       "      <td>POINT (-73.96273074561996 40.773800871637576)</td>\n",
       "      <td>52 E 76th St</td>\n",
       "      <td>40.773801</td>\n",
       "      <td>-73.962731</td>\n",
       "      <td>Art_Gallery</td>\n",
       "      <td>Learn more at :http://www.nyc.com/arts__attrac...</td>\n",
       "    </tr>\n",
       "    <tr>\n",
       "      <th>1</th>\n",
       "      <td>1</td>\n",
       "      <td>Organization of Independent Artists - Gallery 402</td>\n",
       "      <td>POINT (-74.0093857886298 40.71646850931738)</td>\n",
       "      <td>19 Hudson St.</td>\n",
       "      <td>40.716469</td>\n",
       "      <td>-74.009386</td>\n",
       "      <td>Art_Gallery</td>\n",
       "      <td>Learn more at :http://www.nonprofitgallery.com...</td>\n",
       "    </tr>\n",
       "    <tr>\n",
       "      <th>2</th>\n",
       "      <td>2</td>\n",
       "      <td>Owen Gallery</td>\n",
       "      <td>POINT (-73.96435178145856 40.7740008522409)</td>\n",
       "      <td>19 E 75th St</td>\n",
       "      <td>40.774001</td>\n",
       "      <td>-73.964352</td>\n",
       "      <td>Art_Gallery</td>\n",
       "      <td>Learn more at :http://www.owengallery.com/abou...</td>\n",
       "    </tr>\n",
       "    <tr>\n",
       "      <th>3</th>\n",
       "      <td>3</td>\n",
       "      <td>P P O W Gallerie</td>\n",
       "      <td>POINT (-74.00389261044238 40.74958540084406)</td>\n",
       "      <td>511 W 25th St</td>\n",
       "      <td>40.749585</td>\n",
       "      <td>-74.003893</td>\n",
       "      <td>Art_Gallery</td>\n",
       "      <td>Learn more at :http://www.ppowgallery.com/</td>\n",
       "    </tr>\n",
       "    <tr>\n",
       "      <th>4</th>\n",
       "      <td>4</td>\n",
       "      <td>P P O W Inc</td>\n",
       "      <td>POINT (-74.00176389614576 40.72290742771331)</td>\n",
       "      <td>476 Broome St</td>\n",
       "      <td>40.722907</td>\n",
       "      <td>-74.001764</td>\n",
       "      <td>Art_Gallery</td>\n",
       "      <td>Learn more at :http://www.nyc.com/arts__attrac...</td>\n",
       "    </tr>\n",
       "    <tr>\n",
       "      <th>...</th>\n",
       "      <td>...</td>\n",
       "      <td>...</td>\n",
       "      <td>...</td>\n",
       "      <td>...</td>\n",
       "      <td>...</td>\n",
       "      <td>...</td>\n",
       "      <td>...</td>\n",
       "      <td>...</td>\n",
       "    </tr>\n",
       "    <tr>\n",
       "      <th>2703</th>\n",
       "      <td>2703</td>\n",
       "      <td>Busted</td>\n",
       "      <td>POINT(40.74622 -74.00605)</td>\n",
       "      <td>NaN</td>\n",
       "      <td>40.746220</td>\n",
       "      <td>-74.006050</td>\n",
       "      <td>StreetArt</td>\n",
       "      <td>NaN</td>\n",
       "    </tr>\n",
       "    <tr>\n",
       "      <th>2704</th>\n",
       "      <td>2704</td>\n",
       "      <td>Hudson River Park (Pier 40)</td>\n",
       "      <td>POINT(40.7292 -74.0112)</td>\n",
       "      <td>Houston Street, Pier 40</td>\n",
       "      <td>40.729200</td>\n",
       "      <td>-74.011200</td>\n",
       "      <td>Kayaking/Canoeing</td>\n",
       "      <td>NaN</td>\n",
       "    </tr>\n",
       "    <tr>\n",
       "      <th>2705</th>\n",
       "      <td>2705</td>\n",
       "      <td>Building Mind, Body, and Spirit: BMS Art in th...</td>\n",
       "      <td>POINT(40.671748 -73.907709)</td>\n",
       "      <td>NaN</td>\n",
       "      <td>40.671748</td>\n",
       "      <td>-73.907709</td>\n",
       "      <td>StreetArt</td>\n",
       "      <td>NaN</td>\n",
       "    </tr>\n",
       "    <tr>\n",
       "      <th>2706</th>\n",
       "      <td>2706</td>\n",
       "      <td>Hudson River Park (Pier 96)</td>\n",
       "      <td>POINT(40.7711 -73.9956)</td>\n",
       "      <td>56th Street, Pier 96</td>\n",
       "      <td>40.771100</td>\n",
       "      <td>-73.995600</td>\n",
       "      <td>Kayaking/Canoeing</td>\n",
       "      <td>NaN</td>\n",
       "    </tr>\n",
       "    <tr>\n",
       "      <th>2707</th>\n",
       "      <td>2707</td>\n",
       "      <td>dusk.space</td>\n",
       "      <td>POINT(40.707459 -74.001242)</td>\n",
       "      <td>NaN</td>\n",
       "      <td>40.707459</td>\n",
       "      <td>-74.001242</td>\n",
       "      <td>StreetArt</td>\n",
       "      <td>NaN</td>\n",
       "    </tr>\n",
       "  </tbody>\n",
       "</table>\n",
       "<p>2708 rows × 8 columns</p>\n",
       "</div>"
      ],
      "text/plain": [
       "      Unnamed: 0                                              Names  \\\n",
       "0              0                          O'reilly William & Co Ltd   \n",
       "1              1  Organization of Independent Artists - Gallery 402   \n",
       "2              2                                       Owen Gallery   \n",
       "3              3                                   P P O W Gallerie   \n",
       "4              4                                        P P O W Inc   \n",
       "...          ...                                                ...   \n",
       "2703        2703                                             Busted   \n",
       "2704        2704                        Hudson River Park (Pier 40)   \n",
       "2705        2705  Building Mind, Body, and Spirit: BMS Art in th...   \n",
       "2706        2706                        Hudson River Park (Pier 96)   \n",
       "2707        2707                                         dusk.space   \n",
       "\n",
       "                                           Geometry                  Address  \\\n",
       "0     POINT (-73.96273074561996 40.773800871637576)             52 E 76th St   \n",
       "1       POINT (-74.0093857886298 40.71646850931738)            19 Hudson St.   \n",
       "2       POINT (-73.96435178145856 40.7740008522409)             19 E 75th St   \n",
       "3      POINT (-74.00389261044238 40.74958540084406)            511 W 25th St   \n",
       "4      POINT (-74.00176389614576 40.72290742771331)            476 Broome St   \n",
       "...                                             ...                      ...   \n",
       "2703                      POINT(40.74622 -74.00605)                      NaN   \n",
       "2704                        POINT(40.7292 -74.0112)  Houston Street, Pier 40   \n",
       "2705                    POINT(40.671748 -73.907709)                      NaN   \n",
       "2706                        POINT(40.7711 -73.9956)     56th Street, Pier 96   \n",
       "2707                    POINT(40.707459 -74.001242)                      NaN   \n",
       "\n",
       "      Lattitude  Longitude           Category  \\\n",
       "0     40.773801 -73.962731        Art_Gallery   \n",
       "1     40.716469 -74.009386        Art_Gallery   \n",
       "2     40.774001 -73.964352        Art_Gallery   \n",
       "3     40.749585 -74.003893        Art_Gallery   \n",
       "4     40.722907 -74.001764        Art_Gallery   \n",
       "...         ...        ...                ...   \n",
       "2703  40.746220 -74.006050          StreetArt   \n",
       "2704  40.729200 -74.011200  Kayaking/Canoeing   \n",
       "2705  40.671748 -73.907709          StreetArt   \n",
       "2706  40.771100 -73.995600  Kayaking/Canoeing   \n",
       "2707  40.707459 -74.001242          StreetArt   \n",
       "\n",
       "                                                Details  \n",
       "0     Learn more at :http://www.nyc.com/arts__attrac...  \n",
       "1     Learn more at :http://www.nonprofitgallery.com...  \n",
       "2     Learn more at :http://www.owengallery.com/abou...  \n",
       "3            Learn more at :http://www.ppowgallery.com/  \n",
       "4     Learn more at :http://www.nyc.com/arts__attrac...  \n",
       "...                                                 ...  \n",
       "2703                                                NaN  \n",
       "2704                                                NaN  \n",
       "2705                                                NaN  \n",
       "2706                                                NaN  \n",
       "2707                                                NaN  \n",
       "\n",
       "[2708 rows x 8 columns]"
      ]
     },
     "execution_count": 16,
     "metadata": {},
     "output_type": "execute_result"
    }
   ],
   "source": [
    "ny_all"
   ]
  },
  {
   "cell_type": "code",
   "execution_count": 17,
   "id": "28d3f489",
   "metadata": {},
   "outputs": [],
   "source": [
    "ny_all.loc[ny_all.Longitude >= 0] = (ny_all.loc[ny_all.Longitude >= 0]*-1)"
   ]
  },
  {
   "cell_type": "code",
   "execution_count": 18,
   "id": "2b7c20bd",
   "metadata": {},
   "outputs": [
    {
     "data": {
      "text/html": [
       "<div>\n",
       "<style scoped>\n",
       "    .dataframe tbody tr th:only-of-type {\n",
       "        vertical-align: middle;\n",
       "    }\n",
       "\n",
       "    .dataframe tbody tr th {\n",
       "        vertical-align: top;\n",
       "    }\n",
       "\n",
       "    .dataframe thead th {\n",
       "        text-align: right;\n",
       "    }\n",
       "</style>\n",
       "<table border=\"1\" class=\"dataframe\">\n",
       "  <thead>\n",
       "    <tr style=\"text-align: right;\">\n",
       "      <th></th>\n",
       "      <th>Unnamed: 0</th>\n",
       "      <th>Names</th>\n",
       "      <th>Geometry</th>\n",
       "      <th>Address</th>\n",
       "      <th>Lattitude</th>\n",
       "      <th>Longitude</th>\n",
       "      <th>Category</th>\n",
       "      <th>Details</th>\n",
       "    </tr>\n",
       "  </thead>\n",
       "  <tbody>\n",
       "  </tbody>\n",
       "</table>\n",
       "</div>"
      ],
      "text/plain": [
       "Empty DataFrame\n",
       "Columns: [Unnamed: 0, Names, Geometry, Address, Lattitude, Longitude, Category, Details]\n",
       "Index: []"
      ]
     },
     "execution_count": 18,
     "metadata": {},
     "output_type": "execute_result"
    }
   ],
   "source": [
    "ny_all.loc[ny_all.Longitude >= 0]"
   ]
  },
  {
   "cell_type": "code",
   "execution_count": 19,
   "id": "e86b1736",
   "metadata": {},
   "outputs": [
    {
     "data": {
      "text/plain": [
       "array([[<AxesSubplot:title={'center':'Longitude'}>]], dtype=object)"
      ]
     },
     "execution_count": 19,
     "metadata": {},
     "output_type": "execute_result"
    },
    {
     "data": {
      "image/png": "[encoded data removed]",
      "text/plain": [
       "<Figure size 432x288 with 1 Axes>"
      ]
     },
     "metadata": {
      "needs_background": "light"
     },
     "output_type": "display_data"
    }
   ],
   "source": [
    "ny_all.hist(column=\"Longitude\")"
   ]
  },
  {
   "cell_type": "code",
   "execution_count": 25,
   "id": "e9f075e4",
   "metadata": {},
   "outputs": [
    {
     "data": {
      "text/plain": [
       "array([[<AxesSubplot:title={'center':'Lattitude'}>]], dtype=object)"
      ]
     },
     "execution_count": 25,
     "metadata": {},
     "output_type": "execute_result"
    },
    {
     "data": {
      "image/png": "[encoded data removed]",
      "text/plain": [
       "<Figure size 432x288 with 1 Axes>"
      ]
     },
     "metadata": {
      "needs_background": "light"
     },
     "output_type": "display_data"
    }
   ],
   "source": [
    "ny_all.hist(column=\"Lattitude\")"
   ]
  },
  {
   "cell_type": "code",
   "execution_count": 21,
   "id": "4bf6c56e",
   "metadata": {},
   "outputs": [
    {
     "data": {
      "text/html": [
       "<div>\n",
       "<style scoped>\n",
       "    .dataframe tbody tr th:only-of-type {\n",
       "        vertical-align: middle;\n",
       "    }\n",
       "\n",
       "    .dataframe tbody tr th {\n",
       "        vertical-align: top;\n",
       "    }\n",
       "\n",
       "    .dataframe thead th {\n",
       "        text-align: right;\n",
       "    }\n",
       "</style>\n",
       "<table border=\"1\" class=\"dataframe\">\n",
       "  <thead>\n",
       "    <tr style=\"text-align: right;\">\n",
       "      <th></th>\n",
       "      <th>Unnamed: 0</th>\n",
       "      <th>Names</th>\n",
       "      <th>Geometry</th>\n",
       "      <th>Address</th>\n",
       "      <th>Lattitude</th>\n",
       "      <th>Longitude</th>\n",
       "      <th>Category</th>\n",
       "      <th>Details</th>\n",
       "    </tr>\n",
       "  </thead>\n",
       "  <tbody>\n",
       "    <tr>\n",
       "      <th>2410</th>\n",
       "      <td>-2410</td>\n",
       "      <td></td>\n",
       "      <td></td>\n",
       "      <td>NaN</td>\n",
       "      <td>-40.791907</td>\n",
       "      <td>-73.946011</td>\n",
       "      <td></td>\n",
       "      <td></td>\n",
       "    </tr>\n",
       "    <tr>\n",
       "      <th>2625</th>\n",
       "      <td>2625</td>\n",
       "      <td>To Each Their Own</td>\n",
       "      <td>POINT(-74.004524 -74.004524)</td>\n",
       "      <td>NaN</td>\n",
       "      <td>-74.004524</td>\n",
       "      <td>-74.004524</td>\n",
       "      <td>StreetArt</td>\n",
       "      <td>Made by Various Artists</td>\n",
       "    </tr>\n",
       "  </tbody>\n",
       "</table>\n",
       "</div>"
      ],
      "text/plain": [
       "      Unnamed: 0              Names                      Geometry Address  \\\n",
       "2410       -2410                                                      NaN   \n",
       "2625        2625  To Each Their Own  POINT(-74.004524 -74.004524)     NaN   \n",
       "\n",
       "      Lattitude  Longitude   Category                  Details  \n",
       "2410 -40.791907 -73.946011                                      \n",
       "2625 -74.004524 -74.004524  StreetArt  Made by Various Artists  "
      ]
     },
     "execution_count": 21,
     "metadata": {},
     "output_type": "execute_result"
    }
   ],
   "source": [
    "ny_all.loc[ny_all.Lattitude <= 0]"
   ]
  },
  {
   "cell_type": "code",
   "execution_count": 22,
   "id": "b7b525c1",
   "metadata": {},
   "outputs": [],
   "source": [
    "ny_all.drop(ny_all.loc[ny_all.Lattitude <= -70].index, inplace=True)"
   ]
  },
  {
   "cell_type": "code",
   "execution_count": 23,
   "id": "e6c06b30",
   "metadata": {},
   "outputs": [],
   "source": [
    "ny_all.loc[ny_all.Lattitude <= 0] = (ny_all.loc[ny_all.Lattitude >= 0]*-1)"
   ]
  },
  {
   "cell_type": "code",
   "execution_count": 24,
   "id": "b1506623",
   "metadata": {},
   "outputs": [
    {
     "data": {
      "text/html": [
       "<div>\n",
       "<style scoped>\n",
       "    .dataframe tbody tr th:only-of-type {\n",
       "        vertical-align: middle;\n",
       "    }\n",
       "\n",
       "    .dataframe tbody tr th {\n",
       "        vertical-align: top;\n",
       "    }\n",
       "\n",
       "    .dataframe thead th {\n",
       "        text-align: right;\n",
       "    }\n",
       "</style>\n",
       "<table border=\"1\" class=\"dataframe\">\n",
       "  <thead>\n",
       "    <tr style=\"text-align: right;\">\n",
       "      <th></th>\n",
       "      <th>Unnamed: 0</th>\n",
       "      <th>Names</th>\n",
       "      <th>Geometry</th>\n",
       "      <th>Address</th>\n",
       "      <th>Lattitude</th>\n",
       "      <th>Longitude</th>\n",
       "      <th>Category</th>\n",
       "      <th>Details</th>\n",
       "    </tr>\n",
       "  </thead>\n",
       "  <tbody>\n",
       "  </tbody>\n",
       "</table>\n",
       "</div>"
      ],
      "text/plain": [
       "Empty DataFrame\n",
       "Columns: [Unnamed: 0, Names, Geometry, Address, Lattitude, Longitude, Category, Details]\n",
       "Index: []"
      ]
     },
     "execution_count": 24,
     "metadata": {},
     "output_type": "execute_result"
    }
   ],
   "source": [
    "ny_all.loc[ny_all.Lattitude <= 0]"
   ]
  },
  {
   "cell_type": "code",
   "execution_count": null,
   "id": "00b6aee9",
   "metadata": {},
   "outputs": [],
   "source": []
  }
 ],
 "metadata": {
  "kernelspec": {
   "display_name": "mlenv",
   "language": "python",
   "name": "mlenv"
  },
  "language_info": {
   "codemirror_mode": {
    "name": "ipython",
    "version": 3
   },
   "file_extension": ".py",
   "mimetype": "text/x-python",
   "name": "python",
   "nbconvert_exporter": "python",
   "pygments_lexer": "ipython3",
   "version": "3.7.10"
  }
 },
 "nbformat": 4,
 "nbformat_minor": 5
}
