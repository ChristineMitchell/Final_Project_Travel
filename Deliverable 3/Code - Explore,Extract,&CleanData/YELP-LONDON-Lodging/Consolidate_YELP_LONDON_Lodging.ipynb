{
 "cells": [
  {
   "cell_type": "code",
   "execution_count": 1,
   "metadata": {},
   "outputs": [],
   "source": [
    "## Dependencies and Setup\n",
    "import pandas as pd"
   ]
  },
  {
   "cell_type": "code",
   "execution_count": 2,
   "metadata": {
    "scrolled": true
   },
   "outputs": [],
   "source": [
    "## Files to Load\n",
    "Hotel = \"Resources/London_Hotels.csv\"\n",
    "Airbnb = \"Resources/London_Airbnb.csv\"\n",
    "BandB = \"Resources/London_BedandBreakfast.csv\""
   ]
  },
  {
   "cell_type": "code",
   "execution_count": 3,
   "metadata": {},
   "outputs": [],
   "source": [
    "## Read the data and store into a Pandas DataFrame\n",
    "Hotel_df = pd.read_csv(Hotel, encoding=\"ISO-8859-1\")\n",
    "Airbnb_df = pd.read_csv(Airbnb, encoding=\"ISO-8859-1\")\n",
    "BandB_df = pd.read_csv(BandB, encoding=\"ISO-8859-1\")"
   ]
  },
  {
   "cell_type": "code",
   "execution_count": 4,
   "metadata": {},
   "outputs": [
    {
     "data": {
      "text/plain": [
       "(461, 10)"
      ]
     },
     "execution_count": 4,
     "metadata": {},
     "output_type": "execute_result"
    }
   ],
   "source": [
    "london_lodging_df = pd.concat([Hotel_df,Airbnb_df,BandB_df], sort=True)\n",
    "london_lodging_df.shape"
   ]
  },
  {
   "cell_type": "code",
   "execution_count": 5,
   "metadata": {},
   "outputs": [
    {
     "data": {
      "text/plain": [
       "(293, 9)"
      ]
     },
     "execution_count": 5,
     "metadata": {},
     "output_type": "execute_result"
    }
   ],
   "source": [
    "#Format & Clean DataFrame\n",
    "column_order = [\"Lodging\",\"Type\",\"Rating\",\"Price\",\"Address\",\"Lat\",\"Lng\",\"url\",\"ID\"]\n",
    "london_lodging_df = london_lodging_df[column_order]\n",
    "london_lodging_df = london_lodging_df.sort_values([\"Type\"], ascending=True)\n",
    "london_lodging_df = london_lodging_df.reset_index(drop=True)\n",
    "london_lodging_df = london_lodging_df.drop_duplicates()\n",
    "london_lodging_df = london_lodging_df.dropna()\n",
    "london_lodging_df.shape\n",
    "#london_lodging_df.head()"
   ]
  },
  {
   "cell_type": "code",
   "execution_count": 6,
   "metadata": {},
   "outputs": [
    {
     "data": {
      "text/plain": [
       "Hotels                  278\n",
       "Pubs                      3\n",
       "Guest Houses              3\n",
       "Indian                    2\n",
       "Gastropubs                1\n",
       "French                    1\n",
       "Chocolatiers & Shops      1\n",
       "British                   1\n",
       "Hostels                   1\n",
       "Social Clubs              1\n",
       "Bed & Breakfast           1\n",
       "Name: Type, dtype: int64"
      ]
     },
     "execution_count": 6,
     "metadata": {},
     "output_type": "execute_result"
    }
   ],
   "source": [
    "#Recategorize & Remove Some Types of Lodging because we have too many varieties\n",
    "#List the Lodging Types\n",
    "london_lodging_df[\"Type\"].value_counts()"
   ]
  },
  {
   "cell_type": "code",
   "execution_count": 7,
   "metadata": {},
   "outputs": [],
   "source": [
    "#Remove some of the Lodging Types because these are not Hotels:\n",
    "#a) replace what we do not want with \"Remove\", then\n",
    "london_lodging_df[\"Type\"] = london_lodging_df[\"Type\"].replace({\"French\":\"Remove\", \n",
    "                                                           \"British\":\"Remove\",\n",
    "                                                           \"Indian\":\"Remove\",\n",
    "                                                           \"Chocolatiers & Shops\":\"Remove\",\n",
    "                                                           \"Social Clubs\":\"Remove\"})\n",
    "#b) remove all the ones labeled \"Remove\"\n",
    "london_lodging_df = london_lodging_df.loc[london_lodging_df[\"Type\"]!=\"Remove\"]\n",
    "#london_lodging_df[\"Type\"].value_counts()"
   ]
  },
  {
   "cell_type": "code",
   "execution_count": 8,
   "metadata": {},
   "outputs": [],
   "source": [
    "#Recategorize lodging\n",
    "london_lodging_df[\"Type\"] = london_lodging_df[\"Type\"].replace({\"Pubs\":\"Bed & Breakfast\",\n",
    "                                                         \"Gastropubs\":\"Bed & Breakfast\"})"
   ]
  },
  {
   "cell_type": "code",
   "execution_count": 9,
   "metadata": {},
   "outputs": [
    {
     "data": {
      "text/plain": [
       "Hotels             278\n",
       "Bed & Breakfast      5\n",
       "Guest Houses         3\n",
       "Hostels              1\n",
       "Name: Type, dtype: int64"
      ]
     },
     "execution_count": 9,
     "metadata": {},
     "output_type": "execute_result"
    }
   ],
   "source": [
    "london_lodging_df[\"Type\"].value_counts()"
   ]
  },
  {
   "cell_type": "code",
   "execution_count": 10,
   "metadata": {},
   "outputs": [
    {
     "data": {
      "text/plain": [
       "(287, 9)"
      ]
     },
     "execution_count": 10,
     "metadata": {},
     "output_type": "execute_result"
    }
   ],
   "source": [
    "#Sort the DataFrame\n",
    "london_lodging_df = london_lodging_df.sort_values([\"Type\"], ascending=True)\n",
    "london_lodging_df.shape\n",
    "#london_lodging_df.tail()"
   ]
  },
  {
   "cell_type": "code",
   "execution_count": 11,
   "metadata": {},
   "outputs": [],
   "source": [
    "# Save the DataFrame to a csv file\n",
    "london_lodging_df.to_csv('Resources/LONDON_Lodging_Final.csv', index=False)"
   ]
  },
  {
   "cell_type": "code",
   "execution_count": null,
   "metadata": {},
   "outputs": [],
   "source": []
  }
 ],
 "metadata": {
  "kernelspec": {
   "display_name": "Python 3",
   "language": "python",
   "name": "python3"
  },
  "language_info": {
   "codemirror_mode": {
    "name": "ipython",
    "version": 3
   },
   "file_extension": ".py",
   "mimetype": "text/x-python",
   "name": "python",
   "nbconvert_exporter": "python",
   "pygments_lexer": "ipython3",
   "version": "3.6.5"
  }
 },
 "nbformat": 4,
 "nbformat_minor": 2
}
