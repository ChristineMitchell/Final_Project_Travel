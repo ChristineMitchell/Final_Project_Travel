{
 "cells": [
  {
   "cell_type": "code",
   "execution_count": 1,
   "metadata": {},
   "outputs": [],
   "source": [
    "## Dependencies and Setup\n",
    "import pandas as pd"
   ]
  },
  {
   "cell_type": "code",
   "execution_count": 2,
   "metadata": {
    "scrolled": true
   },
   "outputs": [],
   "source": [
    "## Files to Load\n",
    "American = \"Resources/London_Restaurants_American.csv\"\n",
    "Asian = \"Resources/London_Restaurants_Asian.csv\"\n",
    "Austrian = \"Resources/London_Restaurants_Austrian.csv\"\n",
    "Bakery = \"Resources/London_Restaurants_Bakery.csv\"\n",
    "BBQ = \"Resources/London_Restaurants_BBQ.csv\"\n",
    "Belgian = \"Resources/London_Restaurants_Belgian.csv\"\n",
    "Bistro = \"Resources/London_Restaurants_Bistro.csv\"\n",
    "British = \"Resources/London_Restaurants_British.csv\"\n",
    "Brunch = \"Resources/London_Restaurants_Brunch.csv\"\n",
    "Cafe = \"Resources/London_Restaurants_Cafe.csv\"\n",
    "Caribbean = \"Resources/London_Restaurants_Caribbean.csv\"\n",
    "Chinese = \"Resources/London_Restaurants_Chinese.csv\"\n",
    "Coffee = \"Resources/London_Restaurants_Coffee.csv\"\n",
    "Danish = \"Resources/London_Restaurants_Danish.csv\"\n",
    "Deli = \"Resources/London_Restaurants_Deli.csv\"\n",
    "Dutch = \"Resources/London_Restaurants_Dutch.csv\"\n",
    "FishChips = \"Resources/London_Restaurants_Fish&Chips.csv\"\n",
    "French = \"Resources/London_Restaurants_French.csv\"\n",
    "German = \"Resources/London_Restaurants_German.csv\"\n",
    "IceCream = \"Resources/London_Restaurants_IceCreamGelato.csv\"\n",
    "Indian = \"Resources/London_Restaurants_Indian.csv\"\n",
    "Irish = \"Resources/London_Restaurants_Irish.csv\"\n",
    "Italian = \"Resources/London_Restaurants_Italian.csv\"\n",
    "Japanese = \"Resources/London_Restaurants_Japanese.csv\"\n",
    "JuiceBar = \"Resources/London_Restaurants_JuiceBar.csv\"\n",
    "Mediterranean = \"Resources/London_Restaurants_Mediterranean.csv\"\n",
    "Mexican = \"Resources/London_Restaurants_Mexican.csv\"\n",
    "MiddleEastern = \"Resources/London_Restaurants_MiddleEastern.csv\"\n",
    "Original = \"Resources/London_Restaurants_200.csv\"\n",
    "Pastry = \"Resources/London_Restaurants_Pastry.csv\"\n",
    "Polish = \"Resources/London_Restaurants_Polish.csv\"\n",
    "Pub = \"Resources/London_Restaurants_Pub.csv\"\n",
    "Pudding = \"Resources/London_Restaurants_Pudding.csv\"\n",
    "Sandwich = \"Resources/London_Restaurants_Sandwich.csv\"\n",
    "Seafood = \"Resources/London_Restaurants_Seafood.csv\"\n",
    "SoulFood = \"Resources/London_Restaurants_SoulFood.csv\"\n",
    "SoupAndSalad = \"Resources/London_Restaurants_Soup&Salad.csv\"\n",
    "Spanish = \"Resources/London_Restaurants_Spanish.csv\"\n",
    "Steakhouse = \"Resources/London_Restaurants_Steakhouse.csv\"\n",
    "Sausage = \"Resources/London_Restaurants_Sausage.csv\"\n",
    "Sushi = \"Resources/London_Restaurants_Sushi.csv\"\n",
    "Tapas = \"Resources/London_Restaurants_Tapas.csv\"\n",
    "Tea = \"Resources/London_Restaurants_Tea.csv\"\n",
    "Thai = \"Resources/London_Restaurants_Thai.csv\"\n",
    "Vegetarian = \"Resources/London_Restaurants_Vegetarian.csv\""
   ]
  },
  {
   "cell_type": "code",
   "execution_count": 3,
   "metadata": {},
   "outputs": [],
   "source": [
    "## Read the data and store into a Pandas DataFrame\n",
    "American_df = pd.read_csv(American, encoding=\"ISO-8859-1\")\n",
    "Asian_df = pd.read_csv(Asian, encoding=\"ISO-8859-1\")\n",
    "Austrian_df = pd.read_csv(Austrian, encoding=\"ISO-8859-1\")\n",
    "Bakery_df = pd.read_csv(Bakery, encoding=\"ISO-8859-1\")\n",
    "BBQ_df = pd.read_csv(BBQ, encoding=\"ISO-8859-1\")\n",
    "Belgian_df = pd.read_csv(Belgian, encoding=\"ISO-8859-1\")\n",
    "Bistro_df = pd.read_csv(Bistro, encoding=\"ISO-8859-1\")\n",
    "British_df = pd.read_csv(British, encoding=\"ISO-8859-1\")\n",
    "Brunch_df = pd.read_csv(Brunch, encoding=\"ISO-8859-1\")\n",
    "Cafe_df = pd.read_csv(Cafe, encoding=\"ISO-8859-1\")\n",
    "Caribbean_df = pd.read_csv(Caribbean, encoding=\"ISO-8859-1\")\n",
    "Chinese_df = pd.read_csv(Chinese, encoding=\"ISO-8859-1\")\n",
    "Coffee_df = pd.read_csv(Coffee, encoding=\"ISO-8859-1\")\n",
    "Danish_df = pd.read_csv(Danish, encoding=\"ISO-8859-1\")\n",
    "Deli_df = pd.read_csv(Deli, encoding=\"ISO-8859-1\")\n",
    "Dutch_df = pd.read_csv(Dutch, encoding=\"ISO-8859-1\")\n",
    "FishChips_df = pd.read_csv(FishChips, encoding=\"ISO-8859-1\")\n",
    "French_df = pd.read_csv(French, encoding=\"ISO-8859-1\")\n",
    "German_df = pd.read_csv(German, encoding=\"ISO-8859-1\")\n",
    "IceCream_df = pd.read_csv(IceCream, encoding=\"ISO-8859-1\")\n",
    "Indian_df = pd.read_csv(Indian, encoding=\"ISO-8859-1\")\n",
    "Irish_df = pd.read_csv(Irish, encoding=\"ISO-8859-1\")\n",
    "Italian_df = pd.read_csv(Italian, encoding=\"ISO-8859-1\")\n",
    "Japanese_df = pd.read_csv(Japanese, encoding=\"ISO-8859-1\")\n",
    "JuiceBar_df = pd.read_csv(JuiceBar, encoding=\"ISO-8859-1\")\n",
    "Mediterranean_df = pd.read_csv(Mediterranean, encoding=\"ISO-8859-1\")\n",
    "Mexican_df = pd.read_csv(Mexican, encoding=\"ISO-8859-1\")\n",
    "MiddleEastern_df = pd.read_csv(MiddleEastern, encoding=\"ISO-8859-1\")\n",
    "Original_df = pd.read_csv(Original, encoding=\"ISO-8859-1\")\n",
    "Pastry_df = pd.read_csv(Pastry, encoding=\"ISO-8859-1\")\n",
    "Polish_df = pd.read_csv(Polish, encoding=\"ISO-8859-1\")\n",
    "Pub_df = pd.read_csv(Pub, encoding=\"ISO-8859-1\")\n",
    "Pudding_df = pd.read_csv(Pudding, encoding=\"ISO-8859-1\")\n",
    "Sandwich_df = pd.read_csv(Sandwich, encoding=\"ISO-8859-1\")\n",
    "Seafood_df = pd.read_csv(Seafood, encoding=\"ISO-8859-1\")\n",
    "SoulFood_df = pd.read_csv(SoulFood, encoding=\"ISO-8859-1\")\n",
    "SoupAndSalad_df = pd.read_csv(SoupAndSalad, encoding=\"ISO-8859-1\")\n",
    "Spanish_df = pd.read_csv(Spanish, encoding=\"ISO-8859-1\")\n",
    "Steakhouse_df = pd.read_csv(Steakhouse, encoding=\"ISO-8859-1\")\n",
    "Sausage_df = pd.read_csv(Sausage, encoding=\"ISO-8859-1\")\n",
    "Sushi_df = pd.read_csv(Sushi, encoding=\"ISO-8859-1\")\n",
    "Tapas_df = pd.read_csv(Tapas, encoding=\"ISO-8859-1\")\n",
    "Tea_df = pd.read_csv(Tea, encoding=\"ISO-8859-1\")\n",
    "Thai_df = pd.read_csv(Thai, encoding=\"ISO-8859-1\")\n",
    "Vegetarian_df = pd.read_csv(Vegetarian, encoding=\"ISO-8859-1\")"
   ]
  },
  {
   "cell_type": "code",
   "execution_count": 4,
   "metadata": {},
   "outputs": [
    {
     "data": {
      "text/plain": [
       "(7965, 10)"
      ]
     },
     "execution_count": 4,
     "metadata": {},
     "output_type": "execute_result"
    }
   ],
   "source": [
    "lnd_restaurants_df = pd.concat([American_df,Asian_df,Austrian_df,Bakery_df,BBQ_df,Belgian_df,\n",
    "                                Bistro_df,British_df,Brunch_df,Cafe_df,Caribbean_df,Chinese_df,\n",
    "                                Coffee_df,Danish_df,Deli_df,Dutch_df,FishChips_df,French_df,German_df,\n",
    "                                IceCream_df,Indian_df,Irish_df,Italian_df,Japanese_df,JuiceBar_df,\n",
    "                                Mediterranean_df,Mexican_df,MiddleEastern_df,Original_df,Pastry_df,\n",
    "                                Polish_df,Pub_df,Pudding_df,Sandwich_df,Seafood_df,SoulFood_df,\n",
    "                                SoupAndSalad_df,Spanish_df,Steakhouse_df,Sausage_df,Sushi_df,\n",
    "                                Tapas_df,Tea_df,Thai_df,Vegetarian_df], sort=True)\n",
    "lnd_restaurants_df.shape"
   ]
  },
  {
   "cell_type": "code",
   "execution_count": 5,
   "metadata": {},
   "outputs": [
    {
     "data": {
      "text/plain": [
       "(3888, 9)"
      ]
     },
     "execution_count": 5,
     "metadata": {},
     "output_type": "execute_result"
    }
   ],
   "source": [
    "#Format & Clean DataFrame\n",
    "column_order = [\"Restaurant\",\"Type\",\"Rating\",\"Price\",\"Address\",\"Lat\",\"Lng\",\"url\",\"ID\"]\n",
    "lnd_restaurants_df = lnd_restaurants_df[column_order]\n",
    "lnd_restaurants_df = lnd_restaurants_df.sort_values([\"Type\"], ascending=True)\n",
    "lnd_restaurants_df = lnd_restaurants_df.reset_index(drop=True)\n",
    "lnd_restaurants_df = lnd_restaurants_df.drop_duplicates()\n",
    "lnd_restaurants_df = lnd_restaurants_df.dropna()\n",
    "lnd_restaurants_df.shape\n",
    "#lnd_restaurants_df.head()"
   ]
  },
  {
   "cell_type": "code",
   "execution_count": 6,
   "metadata": {},
   "outputs": [],
   "source": [
    "#Recategorize & Remove Types of Restaurants because we have too many varieties\n",
    "#List the Restaurant Types\n",
    "#lnd_restaurants_df[\"Type\"].value_counts()"
   ]
  },
  {
   "cell_type": "code",
   "execution_count": 7,
   "metadata": {},
   "outputs": [],
   "source": [
    "#Remove some of the Restuarant Types because these are not Restaurants:\n",
    "#a) replace what we do not want with \"Remove\", then\n",
    "lnd_restaurants_df[\"Type\"] = lnd_restaurants_df[\"Type\"].replace({\"Comfort Food\":\"Remove\", \n",
    "                                                           \"Cheese Shops\":\"Remove\",\n",
    "                                                           \"Hookah Bars\":\"Remove\",\n",
    "                                                           \"Hostels\":\"Remove\",\n",
    "                                                           \"Accessories\":\"Remove\",   \n",
    "                                                           \"Airport Lounges\":\"Remove\",      \n",
    "                                                           \"Arabic\":\"Remove\",\n",
    "                                                           \"Art Galleries\":\"Remove\",\n",
    "                                                           \"Basque\":\"Remove\",\n",
    "                                                           \"Bikes\":\"Remove\",\n",
    "                                                           \"Bowling\":\"Remove\",\n",
    "                                                           \"Burmese\":\"Remove\",\n",
    "                                                           \"Coffee & Tea Supplies\":\"Remove\",\n",
    "                                                           \"Community Service/Non-Profit\":\"Remove\",\n",
    "                                                           \"Dance Clubs\":\"Remove\",\n",
    "                                                           \"Day Spas\":\"Remove\",\n",
    "                                                           \"Department Stores\":\"Remove\",\n",
    "                                                           \"Farmers Market\":\"Remove\",\n",
    "                                                           \"Fashion\":\"Remove\",\n",
    "                                                           \"Flea Markets\":\"Remove\",\n",
    "                                                           \"Furniture Reupholstery\":\"Remove\",\n",
    "                                                           \"Furniture Stores\":\"Remove\",\n",
    "                                                           \"Home Decor\":\"Remove\",\n",
    "                                                           \"International Grocery\":\"Remove\",\n",
    "                                                           \"Mauritius\":\"Remove\",\n",
    "                                                           \"Museums\":\"Remove\",\n",
    "                                                           \"Social Clubs\":\"Remove\",      \n",
    "                                                           \"Yoga\":\"Remove\",            \n",
    "                                                           \"Grocery\":\"Remove\",\n",
    "                                                           \"Food\":\"Remove\",\n",
    "                                                           \"Food Trucks\":\"Remove\",\n",
    "                                                           \"Seafood Markets\":\"Remove\",\n",
    "                                                           \"Specialty Food\":\"Remove\",\n",
    "                                                           \"Meat Shops\":\"Remove\",\n",
    "                                                           \"Venues & Event Spaces\":\"Remove\", \n",
    "                                                           \"Music Venues\":\"Remove\",\n",
    "                                                           \"Street Vendors\":\"Remove\",\n",
    "                                                           \"Chicken Shop\":\"Remove\",\n",
    "                                                           \"Convenience Stores\":\"Remove\",\n",
    "                                                           \"Health Markets\":\"Remove\",\n",
    "                                                           \"Butcher\":\"Remove\",\n",
    "                                                           \"Fruits & Veggies\":\"Remove\", \n",
    "                                                           \"Public Markets\":\"Remove\",\n",
    "                                                           \"Florists\":\"Remove\",\n",
    "                                                           \"Caterers\":\"Remove\",\n",
    "                                                           \"Poke\":\"Remove\",\n",
    "                                                           \"Colombian\":\"Remove\",\n",
    "                                                           \"Bookstores\":\"Remove\",\n",
    "                                                           \"Brasseries\":\"Remove\", \n",
    "                                                           \"Food Delivery Services\":\"Remove\",\n",
    "                                                           \"Organic Stores\":\"Remove\",\n",
    "                                                           \"Custom Cakes\":\"Remove\",\n",
    "                                                           \"Hotels\":\"Remove\",\n",
    "                                                           \"Antiques\":\"Remove\",\n",
    "                                                           \"Karaoke\":\"Remove\",\n",
    "                                                           \"Tobacco Shops\":\"Remove\", \n",
    "                                                           \"Sardinian\":\"Remove\",\n",
    "                                                           \"Gluten-Free\":\"Remove\",\n",
    "                                                           \"Supper Clubs\":\"Remove\",\n",
    "                                                           \"Imported Food\":\"Remove\",\n",
    "                                                           \"Pasta Shops\":\"Remove\",\n",
    "                                                           \"Performing Arts\":\"Remove\",\n",
    "                                                           \"Pool Halls\":\"Remove\",\n",
    "                                                           \"Patisserie/Cake Shop\":\"Remove\"})\n",
    "#b) remove all the ones labeled \"Remove\"\n",
    "lnd_restaurants_df = lnd_restaurants_df.loc[lnd_restaurants_df[\"Type\"]!=\"Remove\"]\n",
    "#lnd_restaurants_df[\"Type\"].value_counts()"
   ]
  },
  {
   "cell_type": "code",
   "execution_count": 8,
   "metadata": {},
   "outputs": [],
   "source": [
    "#Recategorize Bars,Pubs, & Cocktail Lounges\n",
    "lnd_restaurants_df[\"Type\"] = lnd_restaurants_df[\"Type\"].replace({\"Bars\":\"Bars,Pubs, & Cocktail Lounges\", \n",
    "                                                           \"Cocktail Bars\":\"Bars,Pubs, & Cocktail Lounges\",\n",
    "                                                           \"Pubs\":\"Bars,Pubs, & Cocktail Lounges\",\n",
    "                                                           \"Lounges\":\"Bars,Pubs, & Cocktail Lounges\",\n",
    "                                                           \"Wine Bars\":\"Bars,Pubs, & Cocktail Lounges\",\n",
    "                                                           \"Beer Bar\":\"Bars,Pubs, & Cocktail Lounges\",\n",
    "                                                           \"Sports Bars\":\"Bars,Pubs, & Cocktail Lounges\",\n",
    "                                                           \"Beer Gardens\":\"Bars,Pubs, & Cocktail Lounges\", \n",
    "                                                           \"Dive Bars\":\"Bars,Pubs, & Cocktail Lounges\",\n",
    "                                                           \"Breweries\":\"Bars,Pubs, & Cocktail Lounges\",\n",
    "                                                           \"Gay Bars\":\"Bars,Pubs, & Cocktail Lounges\",\n",
    "                                                           \"Champagne Bars\":\"Bars,Pubs, & Cocktail Lounges\",\n",
    "                                                           \"Jazz & Blues\":\"Bars,Pubs, & Cocktail Lounges\",\n",
    "                                                           \"Beer, Wine & Spirits\":\"Bars,Pubs, & Cocktail Lounges\",\n",
    "                                                           \"Speakeasies\":\"Bars,Pubs, & Cocktail Lounges\",\n",
    "                                                           \"Tiki Bars\":\"Bars,Pubs, & Cocktail Lounges\",\n",
    "                                                           \"Fruits & Veggies\":\"Bars,Pubs, & Cocktail Lounges\", \n",
    "                                                           \"Whiskey Bars\":\"Bars,Pubs, & Cocktail Lounges\",\n",
    "                                                           \"Distilleries\":\"Bars,Pubs, & Cocktail Lounges\",\n",
    "                                                           \"Piano Bars\":\"Bars,Pubs, & Cocktail Lounges\",\n",
    "                                                           \"Brewpubs\":\"Bars,Pubs, & Cocktail Lounges\"})"
   ]
  },
  {
   "cell_type": "code",
   "execution_count": 9,
   "metadata": {},
   "outputs": [],
   "source": [
    "#Recategorize Food Type - Coffee & Tea\n",
    "lnd_restaurants_df[\"Type\"] = lnd_restaurants_df[\"Type\"].replace({\"Bubble Tea\":\"Coffee & Tea\",\n",
    "                                                      \"Tea Rooms\":\"Coffee & Tea\",\n",
    "                                                      \"Coffee Roasteries\":\"Coffee & Tea\"})"
   ]
  },
  {
   "cell_type": "code",
   "execution_count": 10,
   "metadata": {},
   "outputs": [],
   "source": [
    "#Recategorize Food Type - Desserts\n",
    "lnd_restaurants_df[\"Type\"] = lnd_restaurants_df[\"Type\"].replace({\"Chocolatiers & Shops\":\"Desserts\",\n",
    "                                                      \"Candy Stores\":\"Desserts\",\"Cupcakes\":\"Desserts\",\n",
    "                                                      \"Ice Cream & Frozen Yogurt\":\"Ice Cream, Frozen Yogurt, & Gelato\",\n",
    "                                                      \"Gelato\":\"Ice Cream, Frozen Yogurt, & Gelato\"})"
   ]
  },
  {
   "cell_type": "code",
   "execution_count": 11,
   "metadata": {},
   "outputs": [],
   "source": [
    "#Recategorize Food Type - American\n",
    "lnd_restaurants_df[\"Type\"] = lnd_restaurants_df[\"Type\"].replace({\"American (New)\":\"American\", \n",
    "                                                      \"American (Traditional)\":\"American\",\n",
    "                                                      \"Burgers\":\"American\",\"Hot Dogs\":\"American\",\n",
    "                                                      \"Diners\":\"American\",\"Chicken Wings\":\"American\"})"
   ]
  },
  {
   "cell_type": "code",
   "execution_count": 12,
   "metadata": {},
   "outputs": [],
   "source": [
    "#Recategorize Food Type - Asian\n",
    "lnd_restaurants_df[\"Type\"] = lnd_restaurants_df[\"Type\"].replace({ \"Dim Sum\":\"Chinese\",\n",
    "                                                      \"Szechuan\":\"Chinese\",\"Cantonese\":\"Chinese\",\n",
    "                                                      \"Japanese\":\"Japanese/Sushi\",\"Izakaya\":\"Japanese/Sushi\",\n",
    "                                                      \"Teppanyaki\":\"Japanese/Sushi\",\"Japanese Curry\":\"Japanese/Sushi\",\n",
    "                                                      \"Sushi Bars\":\"Japanese/Sushi\",\"Hot Pot\":\"Korean\",\n",
    "                                                      \"Asian Fusion\":\"Asian Other\",\"Ramen\":\"Asian Other\",\n",
    "                                                      \"Shanghainese\":\"Asian Other\", \"Vietnamese\":\"Asian Other\",\n",
    "                                                      \"Noodles\":\"Asian Other\",\"Taiwanese\":\"Asian Other\",\n",
    "                                                      \"Malaysian\":\"Asian Other\",\"Laotian\":\"Asian Other\",\n",
    "                                                      \"Hong Kong Style Cafe\":\"Asian Other\",\n",
    "                                                      \"Indonesian\":\"Asian Other\",\"Pan Asian\":\"Asian Other\"})"
   ]
  },
  {
   "cell_type": "code",
   "execution_count": 13,
   "metadata": {},
   "outputs": [],
   "source": [
    "#Recategorize Food Type - European\n",
    "lnd_restaurants_df[\"Type\"] = lnd_restaurants_df[\"Type\"].replace({\"Creperies\":\"French\",\"Macarons\":\"French\",\n",
    "                                                      \"German\":\"German/Austrian\",\"Austrian\":\"German/Austrian\",\n",
    "                                                      \"Irish Pub\":\"Irish\",\"Tuscan\":\"Italian\",\n",
    "                                                      \"Tapas Bars\":\"Spanish\",\"Tapas/Small Plates\":\"Spanish\",\n",
    "                                                      \"Modern European\":\"European Other\",\"Irish\":\"European Other\",\n",
    "                                                      \"British\":\"European Other\",\"Belgian\":\"European Other\",\n",
    "                                                      \"Scandinavian\":\"European Other\",\"Fish & Chips\":\"European Other\"})"
   ]
  },
  {
   "cell_type": "code",
   "execution_count": 14,
   "metadata": {},
   "outputs": [],
   "source": [
    "#Recategorize Food Type - Delis, Sandwiches, & Wraps\n",
    "lnd_restaurants_df[\"Type\"] = lnd_restaurants_df[\"Type\"].replace({\"Delis\":\"Delis, Sandwiches, & Wraps\",\n",
    "                                                      \"Sandwiches\":\"Delis, Sandwiches, & Wraps\",\n",
    "                                                      \"Wraps\":\"Delis, Sandwiches, & Wraps\",\n",
    "                                                      \"Delicatessen\":\"Delis, Sandwiches, & Wraps\"})"
   ]
  },
  {
   "cell_type": "code",
   "execution_count": 15,
   "metadata": {},
   "outputs": [],
   "source": [
    "#Recategorize Food Type - Mexican\n",
    "lnd_restaurants_df[\"Type\"] = lnd_restaurants_df[\"Type\"].replace({\"Tacos\":\"Mexican\",\"Tex-Mex\":\"Mexican\",\n",
    "                                                                 \"New Mexican Cuisine\":\"Mexican\"})"
   ]
  },
  {
   "cell_type": "code",
   "execution_count": 16,
   "metadata": {},
   "outputs": [],
   "source": [
    "#Recategorize Food Type - Latin American\n",
    "lnd_restaurants_df[\"Type\"] = lnd_restaurants_df[\"Type\"].replace({\"Cuban\":\"Latin American\",\"Brazilian\":\"Latin American\",\n",
    "                                                      \"Puerto Rican\":\"Latin American\",\"Argentine\":\"Latin American\",\n",
    "                                                      \"Peruvian\":\"Latin American\",\"Venezuelan\":\"Latin American\",\n",
    "                                                      \"Empanadas\":\"Latin American\",\"Portuguese\":\"Latin American\",\n",
    "                                                      \"Salvadoran\":\"Latin American\"})"
   ]
  },
  {
   "cell_type": "code",
   "execution_count": 17,
   "metadata": {},
   "outputs": [],
   "source": [
    "#Recategorize Food Type - Middle Eastern & Mediterranean\n",
    "lnd_restaurants_df[\"Type\"] = lnd_restaurants_df[\"Type\"].replace({\"Turkish\":\"Middle Eastern\",\"Falafel\":\"Middle Eastern\",\n",
    "                                                      \"Halal\":\"Middle Eastern\",\"Persian/Iranian\":\"Middle Eastern\",\n",
    "                                                      \"Lebanese\":\"Middle Eastern\",\"Georgian\":\"Middle Eastern\",\n",
    "                                                      \"Pakistani\":\"Middle Eastern\",\"Afghan\":\"Middle Eastern\",\n",
    "                                                      \"Greek\":\"Mediterranean\", \"Kebab\":\"Mediterranean\"})"
   ]
  },
  {
   "cell_type": "code",
   "execution_count": 18,
   "metadata": {},
   "outputs": [],
   "source": [
    "#Recategorize Food Type - Variety\n",
    "lnd_restaurants_df[\"Type\"] = lnd_restaurants_df[\"Type\"].replace({\"Barbeque\":\"BBQ\", \"Smokehouse\":\"BBQ\",\n",
    "                                                                 \"Donuts\":\"Breakfast & Brunch\",\"Pancakes\":\"Breakfast & Brunch\",\n",
    "                                                                 \"Bagels\":\"Breakfast & Brunch\", \"Waffles\":\"Breakfast & Brunch\",\n",
    "                                                                 \"Haitian\":\"Carribean\",\"Dominican\":\"Carribean\",\n",
    "                                                                 \"Fast Food\":\"Food Stands\",\"Food Court\":\"Food Stands\",\n",
    "                                                                 \"Cafes\":\"Cafes & Bistros\", \"Bistros\":\"Cafes & Bistros\", \n",
    "                                                                 \"Salad\":\"Soup & Salad\", \"Soup\":\"Soup & Salad\", \n",
    "                                                                 \"Juice Bars\":\"Smoothies, Juice Bars, & Acai Bowls\", \"Acai Bowls\":\"Smoothies, Juice Bars, & Acai Bowls\",\n",
    "                                                                 \"Smoothies\":\"Smoothies, Juice Bars, & Acai Bowls\",\n",
    "                                                                 \"Vegan\":\"Vegan & Vegetarian\", \"Vegetarian\":\"Vegan & Vegetarian\"})\n",
    "            "
   ]
  },
  {
   "cell_type": "code",
   "execution_count": 19,
   "metadata": {},
   "outputs": [],
   "source": [
    "#Recategorize Food Type - Other\n",
    "lnd_restaurants_df[\"Type\"] = lnd_restaurants_df[\"Type\"].replace({\"Russian\":\"Other\",\"Filipino\":\"Other\",\n",
    "                                                      \"Australian\":\"Other\",\"African\":\"Other\",\n",
    "                                                      \"Himalayan/Nepalese\":\"Other\",\"Ukrainian\":\"Other\",\n",
    "                                                      \"Ethiopian\":\"Other\",\"Sri Lankan\":\"Other\",\n",
    "                                                      \"Hawaiian\":\"Other\",\"Fondue\":\"Other\",\"Moroccan\":\"Other\",\n",
    "                                                      \"Uzbek\":\"Other\",\"South African\":\"Other\",\n",
    "                                                      \"Bangladeshi\":\"Other\",\"Czech\":\"Other\",\"Kosher\":\"Other\",\n",
    "                                                      \"Restaurants\":\"Other\",\"Buffets\":\"Other\"})"
   ]
  },
  {
   "cell_type": "code",
   "execution_count": 20,
   "metadata": {},
   "outputs": [
    {
     "data": {
      "text/plain": [
       "(3649, 9)"
      ]
     },
     "execution_count": 20,
     "metadata": {},
     "output_type": "execute_result"
    }
   ],
   "source": [
    "#Sort the DataFrame\n",
    "lnd_restaurants_df = lnd_restaurants_df.sort_values([\"Type\"], ascending=True)\n",
    "lnd_restaurants_df.shape\n",
    "#lnd_restaurants_df.tail()\n",
    "#lnd_restaurants_df[\"Type\"].value_counts()"
   ]
  },
  {
   "cell_type": "code",
   "execution_count": 21,
   "metadata": {},
   "outputs": [],
   "source": [
    "# Save the DataFrame to a csv file\n",
    "lnd_restaurants_df.to_csv('Resources/LONDON_Restaurants_Final.csv', index=False)"
   ]
  },
  {
   "cell_type": "code",
   "execution_count": null,
   "metadata": {},
   "outputs": [],
   "source": []
  }
 ],
 "metadata": {
  "kernelspec": {
   "display_name": "Python 3",
   "language": "python",
   "name": "python3"
  },
  "language_info": {
   "codemirror_mode": {
    "name": "ipython",
    "version": 3
   },
   "file_extension": ".py",
   "mimetype": "text/x-python",
   "name": "python",
   "nbconvert_exporter": "python",
   "pygments_lexer": "ipython3",
   "version": "3.6.5"
  }
 },
 "nbformat": 4,
 "nbformat_minor": 2
}
